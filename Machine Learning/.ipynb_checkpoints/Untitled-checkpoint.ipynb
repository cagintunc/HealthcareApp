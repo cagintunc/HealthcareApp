{
 "cells": [
  {
   "cell_type": "code",
   "execution_count": 140,
   "id": "outside-category",
   "metadata": {},
   "outputs": [],
   "source": [
    "import cv2\n",
    "import glob\n",
    "import os\n",
    "import pandas as pd\n",
    "import numpy as np"
   ]
  },
  {
   "cell_type": "code",
   "execution_count": 163,
   "id": "structural-bloom",
   "metadata": {},
   "outputs": [
    {
     "data": {
      "text/plain": [
       "['test', 'train']"
      ]
     },
     "execution_count": 163,
     "metadata": {},
     "output_type": "execute_result"
    }
   ],
   "source": [
    "DB = \"database/images/lung\"\n",
    "LABELS_DICT = {\"NORMAL\":0, \n",
    "               \"COVID19\":1,\n",
    "              \"PNEUMONIA\":2}\n",
    "os.listdir(DB)"
   ]
  },
  {
   "cell_type": "code",
   "execution_count": 146,
   "id": "classical-establishment",
   "metadata": {},
   "outputs": [],
   "source": [
    "test_url = DB+\"/test\"\n",
    "train_url = DB+\"/train\""
   ]
  },
  {
   "cell_type": "code",
   "execution_count": 166,
   "id": "controlled-korea",
   "metadata": {},
   "outputs": [],
   "source": [
    "def get_data(path):\n",
    "    X = []\n",
    "    y = []\n",
    "    \n",
    "    for p in os.listdir(path):\n",
    "        labels = os.listdir(path+\"/\"+p)\n",
    "        for label in labels:\n",
    "            imgs_path = path+\"/\"+p+\"/\"+label+\"/\"\n",
    "            for img in os.listdir(imgs_path):\n",
    "                img_path = imgs_path+img\n",
    "                image = cv2.imread(img_path)\n",
    "                image = cv2.cvtColor(image, cv2.COLOR_RGB2GRAY)\n",
    "                image = cv2.resize(image, (64, 64))\n",
    "                image = image/255.0\n",
    "                X.append(image)\n",
    "                y.append(LABELS_DICT[label])\n",
    "                \n",
    "    return np.array(X), np.array(y)"
   ]
  },
  {
   "cell_type": "code",
   "execution_count": null,
   "id": "virtual-thong",
   "metadata": {},
   "outputs": [],
   "source": [
    "X, y = get_data(DB)"
   ]
  },
  {
   "cell_type": "code",
   "execution_count": null,
   "id": "grand-sequence",
   "metadata": {},
   "outputs": [],
   "source": [
    "len(X), len(y)"
   ]
  },
  {
   "cell_type": "code",
   "execution_count": null,
   "id": "insured-cemetery",
   "metadata": {},
   "outputs": [],
   "source": []
  }
 ],
 "metadata": {
  "kernelspec": {
   "display_name": "Python 3",
   "language": "python",
   "name": "python3"
  },
  "language_info": {
   "codemirror_mode": {
    "name": "ipython",
    "version": 3
   },
   "file_extension": ".py",
   "mimetype": "text/x-python",
   "name": "python",
   "nbconvert_exporter": "python",
   "pygments_lexer": "ipython3",
   "version": "3.9.6"
  }
 },
 "nbformat": 4,
 "nbformat_minor": 5
}
