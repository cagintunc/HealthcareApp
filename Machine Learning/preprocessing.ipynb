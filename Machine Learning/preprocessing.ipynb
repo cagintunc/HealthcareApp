{
 "cells": [
  {
   "cell_type": "code",
   "execution_count": 1,
   "id": "encouraging-integration",
   "metadata": {},
   "outputs": [],
   "source": [
    "import os\n",
    "import glob\n",
    "import numpy as np\n",
    "import pandas as pd\n",
    "import pyreadstat\n",
    "import matplotlib.pyplot as plt\n",
    "\n",
    "DATABASE = \"database\\\\\"\n",
    "MERGED_DF = {}"
   ]
  },
  {
   "cell_type": "code",
   "execution_count": 2,
   "id": "above-production",
   "metadata": {},
   "outputs": [
    {
     "data": {
      "text/plain": [
       "['1999-2000',\n",
       " '2001-2002',\n",
       " '2003-2004',\n",
       " '2005-2006',\n",
       " '2007-2008',\n",
       " '2009-2010',\n",
       " '2011-2012',\n",
       " 'report.docx']"
      ]
     },
     "execution_count": 2,
     "metadata": {},
     "output_type": "execute_result"
    }
   ],
   "source": [
    "os.listdir(\"database\\\\\")"
   ]
  },
  {
   "cell_type": "code",
   "execution_count": 65,
   "id": "organizational-finance",
   "metadata": {},
   "outputs": [],
   "source": [
    "def get_DF_of_year(year, threshold=5, database=\"Lab\"):\n",
    "    result = {}\n",
    "    db = glob.glob(f\"{DATABASE}{year}\\\\{database}\\\\*\")\n",
    "    for xpt in db:\n",
    "        df, meta = pyreadstat.read_xport(xpt, encoding=\"ISO-8859-1\")\n",
    "        df_new = df.dropna(thresh=int(len(df.columns)-(threshold/100)*len(df.columns)))\n",
    "        df_new[\"year\"] = year\n",
    "        xpt_name = xpt.split(\"\\\\\")[-1]\n",
    "        result[xpt_name] = df_new\n",
    "        print(f\"{xpt_name} : {len(df_new)/len(df)} : with at most {threshold}% of NAN\")\n",
    "    return result"
   ]
  },
  {
   "cell_type": "code",
   "execution_count": 66,
   "id": "voluntary-commercial",
   "metadata": {},
   "outputs": [
    {
     "name": "stdout",
     "output_type": "stream",
     "text": [
      "LAB10.xpt : 1.0 : with at most 2% of NAN\n",
      "LAB10AM.xpt : 0.911233547597184 : with at most 2% of NAN\n",
      "LAB11.xpt : 0.3184324065196548 : with at most 2% of NAN\n"
     ]
    },
    {
     "name": "stderr",
     "output_type": "stream",
     "text": [
      "<ipython-input-65-230c010423b9>:7: SettingWithCopyWarning: \n",
      "A value is trying to be set on a copy of a slice from a DataFrame.\n",
      "Try using .loc[row_indexer,col_indexer] = value instead\n",
      "\n",
      "See the caveats in the documentation: https://pandas.pydata.org/pandas-docs/stable/user_guide/indexing.html#returning-a-view-versus-a-copy\n",
      "  df_new[\"year\"] = year\n"
     ]
    },
    {
     "name": "stdout",
     "output_type": "stream",
     "text": [
      "LAB13.xpt : 0.8895014381591563 : with at most 2% of NAN\n",
      "LAB13AM.xpt : 0.8099616858237548 : with at most 2% of NAN\n",
      "LAB16.xpt : 0.972758664790894 : with at most 2% of NAN\n",
      "SSCARD_A.xpt : 0.9943809958885336 : with at most 2% of NAN\n",
      "SSCYST_A.xpt : 1.0 : with at most 2% of NAN\n",
      "L10AM_B.xpt : 0.9206219312602292 : with at most 2% of NAN\n",
      "L10_2_B.xpt : 0.36804308797127466 : with at most 2% of NAN\n",
      "L10_B.xpt : 1.0 : with at most 2% of NAN\n",
      "L11_2_B.xpt : 0.466786355475763 : with at most 2% of NAN\n",
      "L11_B.xpt : 0.3229324120060462 : with at most 2% of NAN\n",
      "L13AM_B.xpt : 0.816084229390681 : with at most 2% of NAN\n",
      "L13_2_B.xpt : 0.5073529411764706 : with at most 2% of NAN\n",
      "L13_B.xpt : 0.8947311595767653 : with at most 2% of NAN\n",
      "L16_B.xpt : 0.9683127096102695 : with at most 2% of NAN\n",
      "SSCARD_A.xpt : 0.9943809958885336 : with at most 2% of NAN\n",
      "SSCYST_B.xpt : 1.0 : with at most 2% of NAN\n",
      "L10AM_C.xpt : 0.933253873659118 : with at most 2% of NAN\n",
      "L10_C.xpt : 1.0 : with at most 2% of NAN\n",
      "L11_C.xpt : 0.8005229327813488 : with at most 2% of NAN\n",
      "L13AM_C.xpt : 0.8968765493306892 : with at most 2% of NAN\n",
      "L13_C.xpt : 0.9084852734922861 : with at most 2% of NAN\n",
      "L16_C.xpt : 0.969556502129792 : with at most 2% of NAN\n",
      "SSCARD_A.xpt : 0.9943809958885336 : with at most 2% of NAN\n"
     ]
    }
   ],
   "source": [
    "year_1999 = get_DF_of_year(year=\"1999-2000\", threshold=2, database=\"Lab\")\n",
    "year_2001 = get_DF_of_year(year=\"2001-2002\", threshold=2, database=\"Lab\")\n",
    "year_2003 = get_DF_of_year(year=\"2003-2004\", threshold=2, database=\"Lab\")"
   ]
  },
  {
   "cell_type": "markdown",
   "id": "visible-windsor",
   "metadata": {},
   "source": [
    "# A) Laboratory Results"
   ]
  },
  {
   "cell_type": "markdown",
   "id": "prescribed-telescope",
   "metadata": {},
   "source": [
    "### 1) LAB10"
   ]
  },
  {
   "cell_type": "code",
   "execution_count": 5,
   "id": "occupied-gibraltar",
   "metadata": {},
   "outputs": [
    {
     "data": {
      "text/plain": [
       "{'LAB10':           SEQN  LBXGH       year\n",
       " 0          2.0    4.7  1999-2000\n",
       " 1          5.0    5.5  1999-2000\n",
       " 2          6.0    5.1  1999-2000\n",
       " 3          7.0    5.8  1999-2000\n",
       " 4          8.0    5.0  1999-2000\n",
       " ...        ...    ...        ...\n",
       " 21188  31119.0    5.6  2003-2004\n",
       " 21189  31121.0    5.9  2003-2004\n",
       " 21190  31123.0    5.3  2003-2004\n",
       " 21191  31124.0    5.6  2003-2004\n",
       " 21192  31125.0    5.3  2003-2004\n",
       " \n",
       " [21193 rows x 3 columns]}"
      ]
     },
     "execution_count": 5,
     "metadata": {},
     "output_type": "execute_result"
    }
   ],
   "source": [
    "df_lab10 = pd.concat([year_1999[\"LAB10.xpt\"], \n",
    "                                year_2001[\"L10_B.xpt\"], \n",
    "                                year_2003[\"L10_C.xpt\"]],axis=0).reset_index(drop=True)\n",
    "MERGED_DF[\"LAB10\"] = df_lab10\n",
    "MERGED_DF"
   ]
  },
  {
   "cell_type": "markdown",
   "id": "smooth-advisory",
   "metadata": {},
   "source": [
    "### 2) LAB10AM"
   ]
  },
  {
   "cell_type": "code",
   "execution_count": 6,
   "id": "legendary-terry",
   "metadata": {},
   "outputs": [
    {
     "data": {
      "text/html": [
       "<div>\n",
       "<style scoped>\n",
       "    .dataframe tbody tr th:only-of-type {\n",
       "        vertical-align: middle;\n",
       "    }\n",
       "\n",
       "    .dataframe tbody tr th {\n",
       "        vertical-align: top;\n",
       "    }\n",
       "\n",
       "    .dataframe thead th {\n",
       "        text-align: right;\n",
       "    }\n",
       "</style>\n",
       "<table border=\"1\" class=\"dataframe\">\n",
       "  <thead>\n",
       "    <tr style=\"text-align: right;\">\n",
       "      <th></th>\n",
       "      <th>SEQN</th>\n",
       "      <th>WTSAF2YR</th>\n",
       "      <th>LBXGLU</th>\n",
       "      <th>LBDGLUSI</th>\n",
       "      <th>LBXCPSI</th>\n",
       "      <th>LBXIN</th>\n",
       "      <th>LBDINSI</th>\n",
       "      <th>year</th>\n",
       "    </tr>\n",
       "  </thead>\n",
       "  <tbody>\n",
       "    <tr>\n",
       "      <th>0</th>\n",
       "      <td>21005.0</td>\n",
       "      <td>14084.10</td>\n",
       "      <td>87.6</td>\n",
       "      <td>4.863</td>\n",
       "      <td>0.591</td>\n",
       "      <td>11.26</td>\n",
       "      <td>67.56</td>\n",
       "      <td>2003-2004</td>\n",
       "    </tr>\n",
       "    <tr>\n",
       "      <th>1</th>\n",
       "      <td>21006.0</td>\n",
       "      <td>13080.94</td>\n",
       "      <td>75.0</td>\n",
       "      <td>4.163</td>\n",
       "      <td>0.535</td>\n",
       "      <td>11.44</td>\n",
       "      <td>68.64</td>\n",
       "      <td>2003-2004</td>\n",
       "    </tr>\n",
       "    <tr>\n",
       "      <th>2</th>\n",
       "      <td>21013.0</td>\n",
       "      <td>17173.77</td>\n",
       "      <td>91.7</td>\n",
       "      <td>5.090</td>\n",
       "      <td>0.593</td>\n",
       "      <td>10.63</td>\n",
       "      <td>63.78</td>\n",
       "      <td>2003-2004</td>\n",
       "    </tr>\n",
       "    <tr>\n",
       "      <th>3</th>\n",
       "      <td>21016.0</td>\n",
       "      <td>17008.13</td>\n",
       "      <td>79.3</td>\n",
       "      <td>4.402</td>\n",
       "      <td>0.619</td>\n",
       "      <td>16.45</td>\n",
       "      <td>98.70</td>\n",
       "      <td>2003-2004</td>\n",
       "    </tr>\n",
       "    <tr>\n",
       "      <th>4</th>\n",
       "      <td>21020.0</td>\n",
       "      <td>65607.89</td>\n",
       "      <td>88.1</td>\n",
       "      <td>4.890</td>\n",
       "      <td>0.717</td>\n",
       "      <td>9.05</td>\n",
       "      <td>54.30</td>\n",
       "      <td>2003-2004</td>\n",
       "    </tr>\n",
       "    <tr>\n",
       "      <th>...</th>\n",
       "      <td>...</td>\n",
       "      <td>...</td>\n",
       "      <td>...</td>\n",
       "      <td>...</td>\n",
       "      <td>...</td>\n",
       "      <td>...</td>\n",
       "      <td>...</td>\n",
       "      <td>...</td>\n",
       "    </tr>\n",
       "    <tr>\n",
       "      <th>3351</th>\n",
       "      <td>31114.0</td>\n",
       "      <td>104950.92</td>\n",
       "      <td>92.6</td>\n",
       "      <td>5.140</td>\n",
       "      <td>0.384</td>\n",
       "      <td>2.59</td>\n",
       "      <td>15.54</td>\n",
       "      <td>2003-2004</td>\n",
       "    </tr>\n",
       "    <tr>\n",
       "      <th>3352</th>\n",
       "      <td>31115.0</td>\n",
       "      <td>10521.93</td>\n",
       "      <td>82.2</td>\n",
       "      <td>4.563</td>\n",
       "      <td>0.740</td>\n",
       "      <td>10.26</td>\n",
       "      <td>61.56</td>\n",
       "      <td>2003-2004</td>\n",
       "    </tr>\n",
       "    <tr>\n",
       "      <th>3353</th>\n",
       "      <td>31116.0</td>\n",
       "      <td>170326.69</td>\n",
       "      <td>80.5</td>\n",
       "      <td>4.469</td>\n",
       "      <td>0.403</td>\n",
       "      <td>2.24</td>\n",
       "      <td>13.44</td>\n",
       "      <td>2003-2004</td>\n",
       "    </tr>\n",
       "    <tr>\n",
       "      <th>3354</th>\n",
       "      <td>31119.0</td>\n",
       "      <td>70025.16</td>\n",
       "      <td>111.7</td>\n",
       "      <td>6.200</td>\n",
       "      <td>2.003</td>\n",
       "      <td>40.42</td>\n",
       "      <td>242.52</td>\n",
       "      <td>2003-2004</td>\n",
       "    </tr>\n",
       "    <tr>\n",
       "      <th>3355</th>\n",
       "      <td>31124.0</td>\n",
       "      <td>46400.68</td>\n",
       "      <td>103.1</td>\n",
       "      <td>5.723</td>\n",
       "      <td>1.144</td>\n",
       "      <td>15.57</td>\n",
       "      <td>93.42</td>\n",
       "      <td>2003-2004</td>\n",
       "    </tr>\n",
       "  </tbody>\n",
       "</table>\n",
       "<p>3132 rows × 8 columns</p>\n",
       "</div>"
      ],
      "text/plain": [
       "         SEQN   WTSAF2YR  LBXGLU  LBDGLUSI  LBXCPSI  LBXIN  LBDINSI       year\n",
       "0     21005.0   14084.10    87.6     4.863    0.591  11.26    67.56  2003-2004\n",
       "1     21006.0   13080.94    75.0     4.163    0.535  11.44    68.64  2003-2004\n",
       "2     21013.0   17173.77    91.7     5.090    0.593  10.63    63.78  2003-2004\n",
       "3     21016.0   17008.13    79.3     4.402    0.619  16.45    98.70  2003-2004\n",
       "4     21020.0   65607.89    88.1     4.890    0.717   9.05    54.30  2003-2004\n",
       "...       ...        ...     ...       ...      ...    ...      ...        ...\n",
       "3351  31114.0  104950.92    92.6     5.140    0.384   2.59    15.54  2003-2004\n",
       "3352  31115.0   10521.93    82.2     4.563    0.740  10.26    61.56  2003-2004\n",
       "3353  31116.0  170326.69    80.5     4.469    0.403   2.24    13.44  2003-2004\n",
       "3354  31119.0   70025.16   111.7     6.200    2.003  40.42   242.52  2003-2004\n",
       "3355  31124.0   46400.68   103.1     5.723    1.144  15.57    93.42  2003-2004\n",
       "\n",
       "[3132 rows x 8 columns]"
      ]
     },
     "execution_count": 6,
     "metadata": {},
     "output_type": "execute_result"
    }
   ],
   "source": [
    "year_2003[\"L10AM_C.xpt\"]"
   ]
  },
  {
   "cell_type": "code",
   "execution_count": 7,
   "id": "daily-sapphire",
   "metadata": {},
   "outputs": [
    {
     "data": {
      "text/plain": [
       "Index(['SEQN', 'WTSAF2YR', 'WTSAF4YR', 'LBXGLU', 'LBXGLUSI', 'LBXCPSI',\n",
       "       'LBXIN', 'LBXINSI', 'year'],\n",
       "      dtype='object')"
      ]
     },
     "execution_count": 7,
     "metadata": {},
     "output_type": "execute_result"
    }
   ],
   "source": [
    "year_1999['LAB10AM.xpt'].columns"
   ]
  },
  {
   "cell_type": "code",
   "execution_count": 8,
   "id": "strange-proxy",
   "metadata": {},
   "outputs": [],
   "source": [
    "def get_Tosoh_equivalent(x):\n",
    "    return 1.0027 * x - 2.2934"
   ]
  },
  {
   "cell_type": "code",
   "execution_count": 9,
   "id": "ranging-moldova",
   "metadata": {},
   "outputs": [],
   "source": [
    "year_1999['LAB10AM.xpt'][\"LBXGLU\"] = get_Tosoh_equivalent(year_1999['LAB10AM.xpt'][\"LBXGLU\"])\n",
    "year_2001['L10AM_B.xpt'][\"LBXGLU\"] = get_Tosoh_equivalent(year_2001['L10AM_B.xpt'][\"LBXGLU\"])\n",
    "year_2003['L10AM_C.xpt'][\"LBXGLU\"] = year_2003['L10AM_C.xpt'][\"LBXGLU\"] + 0.05"
   ]
  },
  {
   "cell_type": "code",
   "execution_count": 10,
   "id": "accompanied-jersey",
   "metadata": {},
   "outputs": [],
   "source": [
    "year_1999['LAB10AM.xpt'][\"WTSAF2YR\"] = year_1999['LAB10AM.xpt'][\"WTSAF4YR\"]/2\n",
    "year_2001['L10AM_B.xpt'][\"WTSAF2YR\"] = year_2001['L10AM_B.xpt'][\"WTSAF4YR\"]/2\n",
    "\n",
    "year_1999['LAB10AM.xpt'].drop(columns=[\"WTSAF4YR\"], inplace=True)\n",
    "year_2001['L10AM_B.xpt'].drop(columns=[\"WTSAF4YR\"], inplace=True)"
   ]
  },
  {
   "cell_type": "code",
   "execution_count": 11,
   "id": "attached-karma",
   "metadata": {},
   "outputs": [],
   "source": [
    "MERGED_DF[\"L10AM\"] = pd.concat([year_1999['LAB10AM.xpt'], \n",
    "                                year_2001['L10AM_B.xpt'], \n",
    "                                year_2003['L10AM_C.xpt']],\n",
    "                              axis=0)"
   ]
  },
  {
   "cell_type": "code",
   "execution_count": 12,
   "id": "foreign-italic",
   "metadata": {},
   "outputs": [],
   "source": [
    "#MERGED_DF[\"L10AM\"].drop(columns=[\"LBXINSI\", \n",
    " #                                \"LBDGLUSI\", \n",
    "  #                               \"LBDINSI\"], \n",
    "   #                     inplace=True)"
   ]
  },
  {
   "cell_type": "code",
   "execution_count": 13,
   "id": "tough-leeds",
   "metadata": {},
   "outputs": [],
   "source": [
    "MERGED_DF[\"L10AM\"].reset_index(drop=True, inplace=True)"
   ]
  },
  {
   "cell_type": "code",
   "execution_count": 14,
   "id": "behind-dating",
   "metadata": {},
   "outputs": [
    {
     "data": {
      "text/html": [
       "<div>\n",
       "<style scoped>\n",
       "    .dataframe tbody tr th:only-of-type {\n",
       "        vertical-align: middle;\n",
       "    }\n",
       "\n",
       "    .dataframe tbody tr th {\n",
       "        vertical-align: top;\n",
       "    }\n",
       "\n",
       "    .dataframe thead th {\n",
       "        text-align: right;\n",
       "    }\n",
       "</style>\n",
       "<table border=\"1\" class=\"dataframe\">\n",
       "  <thead>\n",
       "    <tr style=\"text-align: right;\">\n",
       "      <th></th>\n",
       "      <th>SEQN</th>\n",
       "      <th>WTSAF2YR</th>\n",
       "      <th>LBXGLU</th>\n",
       "      <th>LBXGLUSI</th>\n",
       "      <th>LBXCPSI</th>\n",
       "      <th>LBXIN</th>\n",
       "      <th>LBXINSI</th>\n",
       "      <th>year</th>\n",
       "      <th>LBDGLUSI</th>\n",
       "      <th>LBDINSI</th>\n",
       "    </tr>\n",
       "  </thead>\n",
       "  <tbody>\n",
       "    <tr>\n",
       "      <th>0</th>\n",
       "      <td>2.0</td>\n",
       "      <td>16536.633786</td>\n",
       "      <td>81.63259</td>\n",
       "      <td>4.646</td>\n",
       "      <td>0.484</td>\n",
       "      <td>4.55</td>\n",
       "      <td>27.30</td>\n",
       "      <td>1999-2000</td>\n",
       "      <td>NaN</td>\n",
       "      <td>NaN</td>\n",
       "    </tr>\n",
       "    <tr>\n",
       "      <th>1</th>\n",
       "      <td>5.0</td>\n",
       "      <td>49234.403246</td>\n",
       "      <td>97.87633</td>\n",
       "      <td>5.550</td>\n",
       "      <td>0.951</td>\n",
       "      <td>13.65</td>\n",
       "      <td>81.90</td>\n",
       "      <td>1999-2000</td>\n",
       "      <td>NaN</td>\n",
       "      <td>NaN</td>\n",
       "    </tr>\n",
       "    <tr>\n",
       "      <th>2</th>\n",
       "      <td>7.0</td>\n",
       "      <td>16467.937032</td>\n",
       "      <td>83.53772</td>\n",
       "      <td>4.756</td>\n",
       "      <td>0.546</td>\n",
       "      <td>9.72</td>\n",
       "      <td>58.32</td>\n",
       "      <td>1999-2000</td>\n",
       "      <td>NaN</td>\n",
       "      <td>NaN</td>\n",
       "    </tr>\n",
       "    <tr>\n",
       "      <th>3</th>\n",
       "      <td>8.0</td>\n",
       "      <td>18008.383815</td>\n",
       "      <td>82.13394</td>\n",
       "      <td>4.678</td>\n",
       "      <td>0.337</td>\n",
       "      <td>7.63</td>\n",
       "      <td>45.78</td>\n",
       "      <td>1999-2000</td>\n",
       "      <td>NaN</td>\n",
       "      <td>NaN</td>\n",
       "    </tr>\n",
       "    <tr>\n",
       "      <th>4</th>\n",
       "      <td>10.0</td>\n",
       "      <td>14469.761221</td>\n",
       "      <td>87.74906</td>\n",
       "      <td>4.989</td>\n",
       "      <td>0.517</td>\n",
       "      <td>6.43</td>\n",
       "      <td>38.58</td>\n",
       "      <td>1999-2000</td>\n",
       "      <td>NaN</td>\n",
       "      <td>NaN</td>\n",
       "    </tr>\n",
       "    <tr>\n",
       "      <th>...</th>\n",
       "      <td>...</td>\n",
       "      <td>...</td>\n",
       "      <td>...</td>\n",
       "      <td>...</td>\n",
       "      <td>...</td>\n",
       "      <td>...</td>\n",
       "      <td>...</td>\n",
       "      <td>...</td>\n",
       "      <td>...</td>\n",
       "      <td>...</td>\n",
       "    </tr>\n",
       "    <tr>\n",
       "      <th>9479</th>\n",
       "      <td>31114.0</td>\n",
       "      <td>104950.920000</td>\n",
       "      <td>92.65000</td>\n",
       "      <td>NaN</td>\n",
       "      <td>0.384</td>\n",
       "      <td>2.59</td>\n",
       "      <td>NaN</td>\n",
       "      <td>2003-2004</td>\n",
       "      <td>5.140</td>\n",
       "      <td>15.54</td>\n",
       "    </tr>\n",
       "    <tr>\n",
       "      <th>9480</th>\n",
       "      <td>31115.0</td>\n",
       "      <td>10521.930000</td>\n",
       "      <td>82.25000</td>\n",
       "      <td>NaN</td>\n",
       "      <td>0.740</td>\n",
       "      <td>10.26</td>\n",
       "      <td>NaN</td>\n",
       "      <td>2003-2004</td>\n",
       "      <td>4.563</td>\n",
       "      <td>61.56</td>\n",
       "    </tr>\n",
       "    <tr>\n",
       "      <th>9481</th>\n",
       "      <td>31116.0</td>\n",
       "      <td>170326.690000</td>\n",
       "      <td>80.55000</td>\n",
       "      <td>NaN</td>\n",
       "      <td>0.403</td>\n",
       "      <td>2.24</td>\n",
       "      <td>NaN</td>\n",
       "      <td>2003-2004</td>\n",
       "      <td>4.469</td>\n",
       "      <td>13.44</td>\n",
       "    </tr>\n",
       "    <tr>\n",
       "      <th>9482</th>\n",
       "      <td>31119.0</td>\n",
       "      <td>70025.160000</td>\n",
       "      <td>111.75000</td>\n",
       "      <td>NaN</td>\n",
       "      <td>2.003</td>\n",
       "      <td>40.42</td>\n",
       "      <td>NaN</td>\n",
       "      <td>2003-2004</td>\n",
       "      <td>6.200</td>\n",
       "      <td>242.52</td>\n",
       "    </tr>\n",
       "    <tr>\n",
       "      <th>9483</th>\n",
       "      <td>31124.0</td>\n",
       "      <td>46400.680000</td>\n",
       "      <td>103.15000</td>\n",
       "      <td>NaN</td>\n",
       "      <td>1.144</td>\n",
       "      <td>15.57</td>\n",
       "      <td>NaN</td>\n",
       "      <td>2003-2004</td>\n",
       "      <td>5.723</td>\n",
       "      <td>93.42</td>\n",
       "    </tr>\n",
       "  </tbody>\n",
       "</table>\n",
       "<p>9484 rows × 10 columns</p>\n",
       "</div>"
      ],
      "text/plain": [
       "         SEQN       WTSAF2YR     LBXGLU  LBXGLUSI  LBXCPSI  LBXIN  LBXINSI  \\\n",
       "0         2.0   16536.633786   81.63259     4.646    0.484   4.55    27.30   \n",
       "1         5.0   49234.403246   97.87633     5.550    0.951  13.65    81.90   \n",
       "2         7.0   16467.937032   83.53772     4.756    0.546   9.72    58.32   \n",
       "3         8.0   18008.383815   82.13394     4.678    0.337   7.63    45.78   \n",
       "4        10.0   14469.761221   87.74906     4.989    0.517   6.43    38.58   \n",
       "...       ...            ...        ...       ...      ...    ...      ...   \n",
       "9479  31114.0  104950.920000   92.65000       NaN    0.384   2.59      NaN   \n",
       "9480  31115.0   10521.930000   82.25000       NaN    0.740  10.26      NaN   \n",
       "9481  31116.0  170326.690000   80.55000       NaN    0.403   2.24      NaN   \n",
       "9482  31119.0   70025.160000  111.75000       NaN    2.003  40.42      NaN   \n",
       "9483  31124.0   46400.680000  103.15000       NaN    1.144  15.57      NaN   \n",
       "\n",
       "           year  LBDGLUSI  LBDINSI  \n",
       "0     1999-2000       NaN      NaN  \n",
       "1     1999-2000       NaN      NaN  \n",
       "2     1999-2000       NaN      NaN  \n",
       "3     1999-2000       NaN      NaN  \n",
       "4     1999-2000       NaN      NaN  \n",
       "...         ...       ...      ...  \n",
       "9479  2003-2004     5.140    15.54  \n",
       "9480  2003-2004     4.563    61.56  \n",
       "9481  2003-2004     4.469    13.44  \n",
       "9482  2003-2004     6.200   242.52  \n",
       "9483  2003-2004     5.723    93.42  \n",
       "\n",
       "[9484 rows x 10 columns]"
      ]
     },
     "execution_count": 14,
     "metadata": {},
     "output_type": "execute_result"
    }
   ],
   "source": [
    "MERGED_DF[\"L10AM\"]"
   ]
  },
  {
   "cell_type": "markdown",
   "id": "accepted-excess",
   "metadata": {},
   "source": [
    "### 3) LAB11"
   ]
  },
  {
   "cell_type": "code",
   "execution_count": 15,
   "id": "recovered-tract",
   "metadata": {},
   "outputs": [],
   "source": [
    "year_2001[\"L11_2_B.xpt\"].rename(columns={\"LB2CRP\":\"LBXCRP\"},\n",
    "                               inplace=True)"
   ]
  },
  {
   "cell_type": "code",
   "execution_count": 16,
   "id": "seasonal-prison",
   "metadata": {},
   "outputs": [],
   "source": [
    "year_1999[\"LAB11.xpt\"].drop(columns=[\"LBXFB\",\n",
    "                                     \"LBDFBSI\",\n",
    "                                     \"URXNT\"],\n",
    "                           inplace=True)\n",
    "year_2001[\"L11_2_B.xpt\"].drop(columns=[\"LB2FB\", \n",
    "                                      \"LB2FBSI\",\n",
    "                                      \"UR2NT\"],\n",
    "                             inplace=True)"
   ]
  },
  {
   "cell_type": "code",
   "execution_count": 17,
   "id": "capital-vegetation",
   "metadata": {},
   "outputs": [],
   "source": [
    "# LB2BAP=exp(−0.5326+1.1139×log(LBXBAP)−0.7963×max(0,log(LBXBAP)−4.5151)+0.9660×max(0,log(LBXBAP)−4.9030))"
   ]
  },
  {
   "cell_type": "code",
   "execution_count": 18,
   "id": "informed-reset",
   "metadata": {},
   "outputs": [],
   "source": [
    "def convert_to_BeckmanAccess(x):\n",
    "    log = np.log(x)\n",
    "    return np.exp((((-0.5326)*(1.1139*log))-\n",
    "                   (- 0.7963 * np.maximum(0, log - 4.5151))+\n",
    "                   (0.9660 * np.maximum(0, log - 4.9030))))"
   ]
  },
  {
   "cell_type": "code",
   "execution_count": 19,
   "id": "senior-drilling",
   "metadata": {},
   "outputs": [],
   "source": [
    "year_2001[\"L11_2_B.xpt\"].rename(columns={\"LB2BAP\":\"LBXBAP\"},\n",
    "                               inplace=True)"
   ]
  },
  {
   "cell_type": "code",
   "execution_count": 20,
   "id": "resident-proportion",
   "metadata": {},
   "outputs": [],
   "source": [
    "year_2001[\"L11_2_B.xpt\"][\"LBXBAP\"] = convert_to_BeckmanAccess(year_2001[\"L11_2_B.xpt\"][\"LBXBAP\"])\n",
    "year_1999[\"LAB11.xpt\"][\"LBXBAP\"] = convert_to_BeckmanAccess(year_1999[\"LAB11.xpt\"][\"LBXBAP\"])"
   ]
  },
  {
   "cell_type": "code",
   "execution_count": 21,
   "id": "suitable-jordan",
   "metadata": {},
   "outputs": [
    {
     "data": {
      "text/plain": [
       "Index(['SEQN', 'LBXCRP', 'LBXHP1', 'LBXBAP', 'year'], dtype='object')"
      ]
     },
     "execution_count": 21,
     "metadata": {},
     "output_type": "execute_result"
    }
   ],
   "source": [
    "year_1999[\"LAB11.xpt\"].columns"
   ]
  },
  {
   "cell_type": "code",
   "execution_count": 22,
   "id": "collectible-diana",
   "metadata": {},
   "outputs": [
    {
     "data": {
      "text/plain": [
       "Index(['SEQN', 'LBXCRP', 'LBXBAP', 'LBXPT21', 'year'], dtype='object')"
      ]
     },
     "execution_count": 22,
     "metadata": {},
     "output_type": "execute_result"
    }
   ],
   "source": [
    "year_2003[\"L11_C.xpt\"].columns"
   ]
  },
  {
   "cell_type": "code",
   "execution_count": 23,
   "id": "jewish-tribune",
   "metadata": {},
   "outputs": [
    {
     "data": {
      "text/plain": [
       "Index(['SEQN', 'LB2DAY', 'LBXBAP', 'LBXCRP', 'year'], dtype='object')"
      ]
     },
     "execution_count": 23,
     "metadata": {},
     "output_type": "execute_result"
    }
   ],
   "source": [
    "year_2001[\"L11_2_B.xpt\"].columns"
   ]
  },
  {
   "cell_type": "code",
   "execution_count": 24,
   "id": "unlike-contact",
   "metadata": {},
   "outputs": [],
   "source": [
    "year_2001[\"L11_2_B.xpt\"].drop(columns=[\"LB2DAY\"], inplace=True)"
   ]
  },
  {
   "cell_type": "code",
   "execution_count": 25,
   "id": "pleasant-hurricane",
   "metadata": {},
   "outputs": [],
   "source": [
    "year_1999[\"LAB11.xpt\"].drop(columns=[\"LBXHP1\"], inplace=True)"
   ]
  },
  {
   "cell_type": "code",
   "execution_count": 26,
   "id": "rising-equilibrium",
   "metadata": {},
   "outputs": [],
   "source": [
    "year_2003[\"L11_C.xpt\"].drop(columns=[\"LBXPT21\"], inplace=True)"
   ]
  },
  {
   "cell_type": "code",
   "execution_count": 27,
   "id": "inappropriate-allocation",
   "metadata": {},
   "outputs": [],
   "source": [
    "MERGED_DF[\"LAB11\"] = pd.concat([year_1999[\"LAB11.xpt\"], \n",
    "                                year_2001[\"L11_2_B.xpt\"], \n",
    "                                year_2003[\"L11_C.xpt\"]], axis=0)"
   ]
  },
  {
   "cell_type": "code",
   "execution_count": 28,
   "id": "original-norwegian",
   "metadata": {},
   "outputs": [],
   "source": [
    "MERGED_DF[\"LAB11\"].reset_index(drop=True, inplace=True)"
   ]
  },
  {
   "cell_type": "code",
   "execution_count": 29,
   "id": "sixth-giving",
   "metadata": {},
   "outputs": [
    {
     "data": {
      "text/html": [
       "<div>\n",
       "<style scoped>\n",
       "    .dataframe tbody tr th:only-of-type {\n",
       "        vertical-align: middle;\n",
       "    }\n",
       "\n",
       "    .dataframe tbody tr th {\n",
       "        vertical-align: top;\n",
       "    }\n",
       "\n",
       "    .dataframe thead th {\n",
       "        text-align: right;\n",
       "    }\n",
       "</style>\n",
       "<table border=\"1\" class=\"dataframe\">\n",
       "  <thead>\n",
       "    <tr style=\"text-align: right;\">\n",
       "      <th></th>\n",
       "      <th>SEQN</th>\n",
       "      <th>LBXCRP</th>\n",
       "      <th>LBXBAP</th>\n",
       "      <th>year</th>\n",
       "    </tr>\n",
       "  </thead>\n",
       "  <tbody>\n",
       "    <tr>\n",
       "      <th>0</th>\n",
       "      <td>2.0</td>\n",
       "      <td>0.36</td>\n",
       "      <td>0.213508</td>\n",
       "      <td>1999-2000</td>\n",
       "    </tr>\n",
       "    <tr>\n",
       "      <th>1</th>\n",
       "      <td>5.0</td>\n",
       "      <td>0.08</td>\n",
       "      <td>0.205488</td>\n",
       "      <td>1999-2000</td>\n",
       "    </tr>\n",
       "    <tr>\n",
       "      <th>2</th>\n",
       "      <td>7.0</td>\n",
       "      <td>0.04</td>\n",
       "      <td>0.221388</td>\n",
       "      <td>1999-2000</td>\n",
       "    </tr>\n",
       "    <tr>\n",
       "      <th>3</th>\n",
       "      <td>10.0</td>\n",
       "      <td>0.12</td>\n",
       "      <td>0.169605</td>\n",
       "      <td>1999-2000</td>\n",
       "    </tr>\n",
       "    <tr>\n",
       "      <th>4</th>\n",
       "      <td>13.0</td>\n",
       "      <td>0.27</td>\n",
       "      <td>0.181206</td>\n",
       "      <td>1999-2000</td>\n",
       "    </tr>\n",
       "    <tr>\n",
       "      <th>...</th>\n",
       "      <td>...</td>\n",
       "      <td>...</td>\n",
       "      <td>...</td>\n",
       "      <td>...</td>\n",
       "    </tr>\n",
       "    <tr>\n",
       "      <th>10260</th>\n",
       "      <td>31119.0</td>\n",
       "      <td>0.12</td>\n",
       "      <td>23.700000</td>\n",
       "      <td>2003-2004</td>\n",
       "    </tr>\n",
       "    <tr>\n",
       "      <th>10261</th>\n",
       "      <td>31121.0</td>\n",
       "      <td>1.27</td>\n",
       "      <td>NaN</td>\n",
       "      <td>2003-2004</td>\n",
       "    </tr>\n",
       "    <tr>\n",
       "      <th>10262</th>\n",
       "      <td>31123.0</td>\n",
       "      <td>0.20</td>\n",
       "      <td>NaN</td>\n",
       "      <td>2003-2004</td>\n",
       "    </tr>\n",
       "    <tr>\n",
       "      <th>10263</th>\n",
       "      <td>31124.0</td>\n",
       "      <td>0.16</td>\n",
       "      <td>19.200000</td>\n",
       "      <td>2003-2004</td>\n",
       "    </tr>\n",
       "    <tr>\n",
       "      <th>10264</th>\n",
       "      <td>31125.0</td>\n",
       "      <td>0.30</td>\n",
       "      <td>NaN</td>\n",
       "      <td>2003-2004</td>\n",
       "    </tr>\n",
       "  </tbody>\n",
       "</table>\n",
       "<p>10265 rows × 4 columns</p>\n",
       "</div>"
      ],
      "text/plain": [
       "          SEQN  LBXCRP     LBXBAP       year\n",
       "0          2.0    0.36   0.213508  1999-2000\n",
       "1          5.0    0.08   0.205488  1999-2000\n",
       "2          7.0    0.04   0.221388  1999-2000\n",
       "3         10.0    0.12   0.169605  1999-2000\n",
       "4         13.0    0.27   0.181206  1999-2000\n",
       "...        ...     ...        ...        ...\n",
       "10260  31119.0    0.12  23.700000  2003-2004\n",
       "10261  31121.0    1.27        NaN  2003-2004\n",
       "10262  31123.0    0.20        NaN  2003-2004\n",
       "10263  31124.0    0.16  19.200000  2003-2004\n",
       "10264  31125.0    0.30        NaN  2003-2004\n",
       "\n",
       "[10265 rows x 4 columns]"
      ]
     },
     "execution_count": 29,
     "metadata": {},
     "output_type": "execute_result"
    }
   ],
   "source": [
    "MERGED_DF[\"LAB11\"]"
   ]
  },
  {
   "cell_type": "markdown",
   "id": "surprising-terrain",
   "metadata": {},
   "source": [
    "### 4) Cholesterol (Total & HDL) - LAB13"
   ]
  },
  {
   "cell_type": "code",
   "execution_count": 30,
   "id": "official-night",
   "metadata": {},
   "outputs": [],
   "source": [
    "#LBXHDD → LBDHDL\n",
    "#LBDHDDSI → LBDHDLSI"
   ]
  },
  {
   "cell_type": "code",
   "execution_count": 31,
   "id": "automated-peace",
   "metadata": {},
   "outputs": [],
   "source": [
    "year_2003[\"L13_C.xpt\"].rename(columns={\"LBXHDD\":\"LBDHDL\",\n",
    "                                      \"LBDHDDSI\":\"LBDHDLSI\"},\n",
    "                             inplace=True)"
   ]
  },
  {
   "cell_type": "code",
   "execution_count": 32,
   "id": "efficient-opera",
   "metadata": {},
   "outputs": [],
   "source": [
    "year_1999[\"LAB13.xpt\"][\"LBDHDLSI\"] = year_1999[\"LAB13.xpt\"][\"LBDHDL\"] * 0.02586\n",
    "year_2001[\"L13_B.xpt\"][\"LBDHDLSI\"] = year_2001[\"L13_B.xpt\"][\"LBDHDL\"] * 0.02586"
   ]
  },
  {
   "cell_type": "code",
   "execution_count": 33,
   "id": "voluntary-bracelet",
   "metadata": {},
   "outputs": [],
   "source": [
    "MERGED_DF[\"LAB13\"] = pd.concat([year_1999[\"LAB13.xpt\"], \n",
    "                               year_2001[\"L13_B.xpt\"],\n",
    "                              year_2003[\"L13_C.xpt\"]], axis=0)"
   ]
  },
  {
   "cell_type": "code",
   "execution_count": 34,
   "id": "nutritional-sunset",
   "metadata": {},
   "outputs": [],
   "source": [
    "MERGED_DF[\"LAB13\"].reset_index(drop=True, inplace=True)"
   ]
  },
  {
   "cell_type": "markdown",
   "id": "numerous-livestock",
   "metadata": {},
   "source": [
    "### 5) LDL-Cholesterol & Triglycerides - LAB13AM"
   ]
  },
  {
   "cell_type": "code",
   "execution_count": 35,
   "id": "harmful-oxygen",
   "metadata": {},
   "outputs": [],
   "source": [
    "# Nothing is needed for correction! But we will find different variables by merging lab13 and lab13am"
   ]
  },
  {
   "cell_type": "code",
   "execution_count": 36,
   "id": "facial-trout",
   "metadata": {},
   "outputs": [],
   "source": [
    "def merged_df_LAB13AM(year_df, names):\n",
    "    n1 = names[0].split(\".\")[0]\n",
    "    n2 = names[1].split(\".\")[0]\n",
    "    new_n = n1+\"Merged\"\n",
    "    year_df[new_n] = pd.merge(year_df[names[0]],\n",
    "                                   year_df[names[1]],\n",
    "                                   on=\"SEQN\",\n",
    "                                   how=\"inner\")\n",
    "    year_df[new_n].drop(columns=[\"year_x\"], inplace=True)\n",
    "    year_df[new_n][\"LBDLDL\"] = (year_df[new_n][\"LBXTC\"]-\n",
    "                               year_df[new_n][\"LBDHDL\"]-\n",
    "                               (year_df[new_n][\"LBXTR\"]/5))"
   ]
  },
  {
   "cell_type": "code",
   "execution_count": 37,
   "id": "monetary-breakfast",
   "metadata": {},
   "outputs": [],
   "source": [
    "merged_df_LAB13AM(year_1999, [\"LAB13.xpt\", \"LAB13AM.xpt\"])\n",
    "merged_df_LAB13AM(year_2001, [\"L13_B.xpt\", \"L13AM_B.xpt\"])\n",
    "merged_df_LAB13AM(year_2003, [\"L13_C.xpt\", \"L13AM_C.xpt\"])"
   ]
  },
  {
   "cell_type": "code",
   "execution_count": 38,
   "id": "under-coaching",
   "metadata": {},
   "outputs": [
    {
     "data": {
      "text/html": [
       "<div>\n",
       "<style scoped>\n",
       "    .dataframe tbody tr th:only-of-type {\n",
       "        vertical-align: middle;\n",
       "    }\n",
       "\n",
       "    .dataframe tbody tr th {\n",
       "        vertical-align: top;\n",
       "    }\n",
       "\n",
       "    .dataframe thead th {\n",
       "        text-align: right;\n",
       "    }\n",
       "</style>\n",
       "<table border=\"1\" class=\"dataframe\">\n",
       "  <thead>\n",
       "    <tr style=\"text-align: right;\">\n",
       "      <th></th>\n",
       "      <th>SEQN</th>\n",
       "      <th>LBXTC</th>\n",
       "      <th>LBDTCSI</th>\n",
       "      <th>LBDHDL</th>\n",
       "      <th>LBDHDLSI</th>\n",
       "      <th>WTSAF2YR</th>\n",
       "      <th>WTSAF4YR</th>\n",
       "      <th>LBXTR</th>\n",
       "      <th>LBDTRSI</th>\n",
       "      <th>LBDLDL</th>\n",
       "      <th>LBDLDLSI</th>\n",
       "      <th>year_y</th>\n",
       "    </tr>\n",
       "  </thead>\n",
       "  <tbody>\n",
       "    <tr>\n",
       "      <th>0</th>\n",
       "      <td>2.0</td>\n",
       "      <td>215.0</td>\n",
       "      <td>5.56</td>\n",
       "      <td>54.0</td>\n",
       "      <td>1.39644</td>\n",
       "      <td>60586.147294</td>\n",
       "      <td>33073.267573</td>\n",
       "      <td>128.0</td>\n",
       "      <td>1.45</td>\n",
       "      <td>135.4</td>\n",
       "      <td>3.52</td>\n",
       "      <td>1999-2000</td>\n",
       "    </tr>\n",
       "    <tr>\n",
       "      <th>1</th>\n",
       "      <td>3.0</td>\n",
       "      <td>129.0</td>\n",
       "      <td>3.34</td>\n",
       "      <td>30.0</td>\n",
       "      <td>0.77580</td>\n",
       "      <td>121969.841152</td>\n",
       "      <td>52434.225472</td>\n",
       "      <td>202.0</td>\n",
       "      <td>2.28</td>\n",
       "      <td>58.6</td>\n",
       "      <td>1.50</td>\n",
       "      <td>1999-2000</td>\n",
       "    </tr>\n",
       "    <tr>\n",
       "      <th>2</th>\n",
       "      <td>5.0</td>\n",
       "      <td>279.0</td>\n",
       "      <td>7.21</td>\n",
       "      <td>42.0</td>\n",
       "      <td>1.08612</td>\n",
       "      <td>234895.205650</td>\n",
       "      <td>98468.806492</td>\n",
       "      <td>347.0</td>\n",
       "      <td>3.92</td>\n",
       "      <td>167.6</td>\n",
       "      <td>4.34</td>\n",
       "      <td>1999-2000</td>\n",
       "    </tr>\n",
       "    <tr>\n",
       "      <th>3</th>\n",
       "      <td>7.0</td>\n",
       "      <td>245.0</td>\n",
       "      <td>6.34</td>\n",
       "      <td>105.0</td>\n",
       "      <td>2.71530</td>\n",
       "      <td>57661.621988</td>\n",
       "      <td>32935.874064</td>\n",
       "      <td>62.0</td>\n",
       "      <td>0.70</td>\n",
       "      <td>127.6</td>\n",
       "      <td>3.28</td>\n",
       "      <td>1999-2000</td>\n",
       "    </tr>\n",
       "    <tr>\n",
       "      <th>4</th>\n",
       "      <td>8.0</td>\n",
       "      <td>162.0</td>\n",
       "      <td>4.19</td>\n",
       "      <td>67.0</td>\n",
       "      <td>1.73262</td>\n",
       "      <td>76026.438279</td>\n",
       "      <td>36016.767631</td>\n",
       "      <td>33.0</td>\n",
       "      <td>0.37</td>\n",
       "      <td>88.4</td>\n",
       "      <td>2.28</td>\n",
       "      <td>1999-2000</td>\n",
       "    </tr>\n",
       "    <tr>\n",
       "      <th>...</th>\n",
       "      <td>...</td>\n",
       "      <td>...</td>\n",
       "      <td>...</td>\n",
       "      <td>...</td>\n",
       "      <td>...</td>\n",
       "      <td>...</td>\n",
       "      <td>...</td>\n",
       "      <td>...</td>\n",
       "      <td>...</td>\n",
       "      <td>...</td>\n",
       "      <td>...</td>\n",
       "      <td>...</td>\n",
       "    </tr>\n",
       "    <tr>\n",
       "      <th>3166</th>\n",
       "      <td>9950.0</td>\n",
       "      <td>161.0</td>\n",
       "      <td>4.16</td>\n",
       "      <td>54.0</td>\n",
       "      <td>1.39644</td>\n",
       "      <td>99762.718947</td>\n",
       "      <td>46146.364442</td>\n",
       "      <td>80.0</td>\n",
       "      <td>0.90</td>\n",
       "      <td>91.0</td>\n",
       "      <td>2.35</td>\n",
       "      <td>1999-2000</td>\n",
       "    </tr>\n",
       "    <tr>\n",
       "      <th>3167</th>\n",
       "      <td>9951.0</td>\n",
       "      <td>160.0</td>\n",
       "      <td>4.14</td>\n",
       "      <td>52.0</td>\n",
       "      <td>1.34472</td>\n",
       "      <td>18315.301381</td>\n",
       "      <td>9546.066476</td>\n",
       "      <td>66.0</td>\n",
       "      <td>0.75</td>\n",
       "      <td>94.8</td>\n",
       "      <td>2.46</td>\n",
       "      <td>1999-2000</td>\n",
       "    </tr>\n",
       "    <tr>\n",
       "      <th>3168</th>\n",
       "      <td>9952.0</td>\n",
       "      <td>194.0</td>\n",
       "      <td>5.02</td>\n",
       "      <td>37.0</td>\n",
       "      <td>0.95682</td>\n",
       "      <td>177334.696331</td>\n",
       "      <td>78218.525571</td>\n",
       "      <td>67.0</td>\n",
       "      <td>0.76</td>\n",
       "      <td>143.6</td>\n",
       "      <td>3.70</td>\n",
       "      <td>1999-2000</td>\n",
       "    </tr>\n",
       "    <tr>\n",
       "      <th>3169</th>\n",
       "      <td>9960.0</td>\n",
       "      <td>276.0</td>\n",
       "      <td>7.14</td>\n",
       "      <td>79.0</td>\n",
       "      <td>2.04294</td>\n",
       "      <td>4730.516172</td>\n",
       "      <td>3324.168420</td>\n",
       "      <td>111.0</td>\n",
       "      <td>1.25</td>\n",
       "      <td>174.8</td>\n",
       "      <td>4.53</td>\n",
       "      <td>1999-2000</td>\n",
       "    </tr>\n",
       "    <tr>\n",
       "      <th>3170</th>\n",
       "      <td>9961.0</td>\n",
       "      <td>211.0</td>\n",
       "      <td>5.46</td>\n",
       "      <td>39.0</td>\n",
       "      <td>1.00854</td>\n",
       "      <td>187597.135872</td>\n",
       "      <td>86693.102694</td>\n",
       "      <td>277.0</td>\n",
       "      <td>3.13</td>\n",
       "      <td>116.6</td>\n",
       "      <td>3.00</td>\n",
       "      <td>1999-2000</td>\n",
       "    </tr>\n",
       "  </tbody>\n",
       "</table>\n",
       "<p>3171 rows × 12 columns</p>\n",
       "</div>"
      ],
      "text/plain": [
       "        SEQN  LBXTC  LBDTCSI  LBDHDL  LBDHDLSI       WTSAF2YR      WTSAF4YR  \\\n",
       "0        2.0  215.0     5.56    54.0   1.39644   60586.147294  33073.267573   \n",
       "1        3.0  129.0     3.34    30.0   0.77580  121969.841152  52434.225472   \n",
       "2        5.0  279.0     7.21    42.0   1.08612  234895.205650  98468.806492   \n",
       "3        7.0  245.0     6.34   105.0   2.71530   57661.621988  32935.874064   \n",
       "4        8.0  162.0     4.19    67.0   1.73262   76026.438279  36016.767631   \n",
       "...      ...    ...      ...     ...       ...            ...           ...   \n",
       "3166  9950.0  161.0     4.16    54.0   1.39644   99762.718947  46146.364442   \n",
       "3167  9951.0  160.0     4.14    52.0   1.34472   18315.301381   9546.066476   \n",
       "3168  9952.0  194.0     5.02    37.0   0.95682  177334.696331  78218.525571   \n",
       "3169  9960.0  276.0     7.14    79.0   2.04294    4730.516172   3324.168420   \n",
       "3170  9961.0  211.0     5.46    39.0   1.00854  187597.135872  86693.102694   \n",
       "\n",
       "      LBXTR  LBDTRSI  LBDLDL  LBDLDLSI     year_y  \n",
       "0     128.0     1.45   135.4      3.52  1999-2000  \n",
       "1     202.0     2.28    58.6      1.50  1999-2000  \n",
       "2     347.0     3.92   167.6      4.34  1999-2000  \n",
       "3      62.0     0.70   127.6      3.28  1999-2000  \n",
       "4      33.0     0.37    88.4      2.28  1999-2000  \n",
       "...     ...      ...     ...       ...        ...  \n",
       "3166   80.0     0.90    91.0      2.35  1999-2000  \n",
       "3167   66.0     0.75    94.8      2.46  1999-2000  \n",
       "3168   67.0     0.76   143.6      3.70  1999-2000  \n",
       "3169  111.0     1.25   174.8      4.53  1999-2000  \n",
       "3170  277.0     3.13   116.6      3.00  1999-2000  \n",
       "\n",
       "[3171 rows x 12 columns]"
      ]
     },
     "execution_count": 38,
     "metadata": {},
     "output_type": "execute_result"
    }
   ],
   "source": [
    "year_1999[\"LAB13Merged\"]"
   ]
  },
  {
   "cell_type": "code",
   "execution_count": 39,
   "id": "meaning-commonwealth",
   "metadata": {},
   "outputs": [],
   "source": [
    "MERGED_DF[\"L13+\"] = pd.concat([year_1999[\"LAB13Merged\"],\n",
    "                              year_2001[\"L13_BMerged\"],\n",
    "                              year_2003[\"L13_CMerged\"]], axis=0)"
   ]
  },
  {
   "cell_type": "code",
   "execution_count": 40,
   "id": "colored-magnitude",
   "metadata": {},
   "outputs": [],
   "source": [
    "MERGED_DF[\"L13+\"].reset_index(drop=True, inplace=True)"
   ]
  },
  {
   "cell_type": "code",
   "execution_count": 41,
   "id": "narrow-adapter",
   "metadata": {},
   "outputs": [
    {
     "data": {
      "text/html": [
       "<div>\n",
       "<style scoped>\n",
       "    .dataframe tbody tr th:only-of-type {\n",
       "        vertical-align: middle;\n",
       "    }\n",
       "\n",
       "    .dataframe tbody tr th {\n",
       "        vertical-align: top;\n",
       "    }\n",
       "\n",
       "    .dataframe thead th {\n",
       "        text-align: right;\n",
       "    }\n",
       "</style>\n",
       "<table border=\"1\" class=\"dataframe\">\n",
       "  <thead>\n",
       "    <tr style=\"text-align: right;\">\n",
       "      <th></th>\n",
       "      <th>SEQN</th>\n",
       "      <th>LBXTC</th>\n",
       "      <th>LBDTCSI</th>\n",
       "      <th>LBDHDL</th>\n",
       "      <th>LBDHDLSI</th>\n",
       "      <th>WTSAF2YR</th>\n",
       "      <th>WTSAF4YR</th>\n",
       "      <th>LBXTR</th>\n",
       "      <th>LBDTRSI</th>\n",
       "      <th>LBDLDL</th>\n",
       "      <th>LBDLDLSI</th>\n",
       "      <th>year_y</th>\n",
       "    </tr>\n",
       "  </thead>\n",
       "  <tbody>\n",
       "    <tr>\n",
       "      <th>0</th>\n",
       "      <td>2.0</td>\n",
       "      <td>215.0</td>\n",
       "      <td>5.56</td>\n",
       "      <td>54.0</td>\n",
       "      <td>1.39644</td>\n",
       "      <td>60586.147294</td>\n",
       "      <td>33073.267573</td>\n",
       "      <td>128.0</td>\n",
       "      <td>1.450</td>\n",
       "      <td>135.4</td>\n",
       "      <td>3.520</td>\n",
       "      <td>1999-2000</td>\n",
       "    </tr>\n",
       "    <tr>\n",
       "      <th>1</th>\n",
       "      <td>3.0</td>\n",
       "      <td>129.0</td>\n",
       "      <td>3.34</td>\n",
       "      <td>30.0</td>\n",
       "      <td>0.77580</td>\n",
       "      <td>121969.841152</td>\n",
       "      <td>52434.225472</td>\n",
       "      <td>202.0</td>\n",
       "      <td>2.280</td>\n",
       "      <td>58.6</td>\n",
       "      <td>1.500</td>\n",
       "      <td>1999-2000</td>\n",
       "    </tr>\n",
       "    <tr>\n",
       "      <th>2</th>\n",
       "      <td>5.0</td>\n",
       "      <td>279.0</td>\n",
       "      <td>7.21</td>\n",
       "      <td>42.0</td>\n",
       "      <td>1.08612</td>\n",
       "      <td>234895.205650</td>\n",
       "      <td>98468.806492</td>\n",
       "      <td>347.0</td>\n",
       "      <td>3.920</td>\n",
       "      <td>167.6</td>\n",
       "      <td>4.340</td>\n",
       "      <td>1999-2000</td>\n",
       "    </tr>\n",
       "    <tr>\n",
       "      <th>3</th>\n",
       "      <td>7.0</td>\n",
       "      <td>245.0</td>\n",
       "      <td>6.34</td>\n",
       "      <td>105.0</td>\n",
       "      <td>2.71530</td>\n",
       "      <td>57661.621988</td>\n",
       "      <td>32935.874064</td>\n",
       "      <td>62.0</td>\n",
       "      <td>0.700</td>\n",
       "      <td>127.6</td>\n",
       "      <td>3.280</td>\n",
       "      <td>1999-2000</td>\n",
       "    </tr>\n",
       "    <tr>\n",
       "      <th>4</th>\n",
       "      <td>8.0</td>\n",
       "      <td>162.0</td>\n",
       "      <td>4.19</td>\n",
       "      <td>67.0</td>\n",
       "      <td>1.73262</td>\n",
       "      <td>76026.438279</td>\n",
       "      <td>36016.767631</td>\n",
       "      <td>33.0</td>\n",
       "      <td>0.370</td>\n",
       "      <td>88.4</td>\n",
       "      <td>2.280</td>\n",
       "      <td>1999-2000</td>\n",
       "    </tr>\n",
       "    <tr>\n",
       "      <th>...</th>\n",
       "      <td>...</td>\n",
       "      <td>...</td>\n",
       "      <td>...</td>\n",
       "      <td>...</td>\n",
       "      <td>...</td>\n",
       "      <td>...</td>\n",
       "      <td>...</td>\n",
       "      <td>...</td>\n",
       "      <td>...</td>\n",
       "      <td>...</td>\n",
       "      <td>...</td>\n",
       "      <td>...</td>\n",
       "    </tr>\n",
       "    <tr>\n",
       "      <th>10427</th>\n",
       "      <td>31114.0</td>\n",
       "      <td>157.0</td>\n",
       "      <td>4.06</td>\n",
       "      <td>73.0</td>\n",
       "      <td>1.89000</td>\n",
       "      <td>104951.000000</td>\n",
       "      <td>NaN</td>\n",
       "      <td>52.0</td>\n",
       "      <td>0.587</td>\n",
       "      <td>73.6</td>\n",
       "      <td>1.914</td>\n",
       "      <td>2003-2004</td>\n",
       "    </tr>\n",
       "    <tr>\n",
       "      <th>10428</th>\n",
       "      <td>31115.0</td>\n",
       "      <td>129.0</td>\n",
       "      <td>3.34</td>\n",
       "      <td>43.0</td>\n",
       "      <td>1.11000</td>\n",
       "      <td>10522.000000</td>\n",
       "      <td>NaN</td>\n",
       "      <td>65.0</td>\n",
       "      <td>0.734</td>\n",
       "      <td>73.0</td>\n",
       "      <td>1.888</td>\n",
       "      <td>2003-2004</td>\n",
       "    </tr>\n",
       "    <tr>\n",
       "      <th>10429</th>\n",
       "      <td>31116.0</td>\n",
       "      <td>208.0</td>\n",
       "      <td>5.38</td>\n",
       "      <td>64.0</td>\n",
       "      <td>1.66000</td>\n",
       "      <td>170326.600000</td>\n",
       "      <td>NaN</td>\n",
       "      <td>77.0</td>\n",
       "      <td>0.869</td>\n",
       "      <td>128.6</td>\n",
       "      <td>3.336</td>\n",
       "      <td>2003-2004</td>\n",
       "    </tr>\n",
       "    <tr>\n",
       "      <th>10430</th>\n",
       "      <td>31119.0</td>\n",
       "      <td>211.0</td>\n",
       "      <td>5.46</td>\n",
       "      <td>44.0</td>\n",
       "      <td>1.14000</td>\n",
       "      <td>70025.200000</td>\n",
       "      <td>NaN</td>\n",
       "      <td>221.0</td>\n",
       "      <td>2.495</td>\n",
       "      <td>122.8</td>\n",
       "      <td>3.181</td>\n",
       "      <td>2003-2004</td>\n",
       "    </tr>\n",
       "    <tr>\n",
       "      <th>10431</th>\n",
       "      <td>31124.0</td>\n",
       "      <td>282.0</td>\n",
       "      <td>7.29</td>\n",
       "      <td>51.0</td>\n",
       "      <td>1.32000</td>\n",
       "      <td>46400.600000</td>\n",
       "      <td>NaN</td>\n",
       "      <td>307.0</td>\n",
       "      <td>3.466</td>\n",
       "      <td>169.6</td>\n",
       "      <td>4.396</td>\n",
       "      <td>2003-2004</td>\n",
       "    </tr>\n",
       "  </tbody>\n",
       "</table>\n",
       "<p>10432 rows × 12 columns</p>\n",
       "</div>"
      ],
      "text/plain": [
       "          SEQN  LBXTC  LBDTCSI  LBDHDL  LBDHDLSI       WTSAF2YR      WTSAF4YR  \\\n",
       "0          2.0  215.0     5.56    54.0   1.39644   60586.147294  33073.267573   \n",
       "1          3.0  129.0     3.34    30.0   0.77580  121969.841152  52434.225472   \n",
       "2          5.0  279.0     7.21    42.0   1.08612  234895.205650  98468.806492   \n",
       "3          7.0  245.0     6.34   105.0   2.71530   57661.621988  32935.874064   \n",
       "4          8.0  162.0     4.19    67.0   1.73262   76026.438279  36016.767631   \n",
       "...        ...    ...      ...     ...       ...            ...           ...   \n",
       "10427  31114.0  157.0     4.06    73.0   1.89000  104951.000000           NaN   \n",
       "10428  31115.0  129.0     3.34    43.0   1.11000   10522.000000           NaN   \n",
       "10429  31116.0  208.0     5.38    64.0   1.66000  170326.600000           NaN   \n",
       "10430  31119.0  211.0     5.46    44.0   1.14000   70025.200000           NaN   \n",
       "10431  31124.0  282.0     7.29    51.0   1.32000   46400.600000           NaN   \n",
       "\n",
       "       LBXTR  LBDTRSI  LBDLDL  LBDLDLSI     year_y  \n",
       "0      128.0    1.450   135.4     3.520  1999-2000  \n",
       "1      202.0    2.280    58.6     1.500  1999-2000  \n",
       "2      347.0    3.920   167.6     4.340  1999-2000  \n",
       "3       62.0    0.700   127.6     3.280  1999-2000  \n",
       "4       33.0    0.370    88.4     2.280  1999-2000  \n",
       "...      ...      ...     ...       ...        ...  \n",
       "10427   52.0    0.587    73.6     1.914  2003-2004  \n",
       "10428   65.0    0.734    73.0     1.888  2003-2004  \n",
       "10429   77.0    0.869   128.6     3.336  2003-2004  \n",
       "10430  221.0    2.495   122.8     3.181  2003-2004  \n",
       "10431  307.0    3.466   169.6     4.396  2003-2004  \n",
       "\n",
       "[10432 rows x 12 columns]"
      ]
     },
     "execution_count": 41,
     "metadata": {},
     "output_type": "execute_result"
    }
   ],
   "source": [
    "MERGED_DF[\"L13+\"]"
   ]
  },
  {
   "cell_type": "markdown",
   "id": "deadly-killer",
   "metadata": {},
   "source": [
    "### 6) LAB16"
   ]
  },
  {
   "cell_type": "code",
   "execution_count": 42,
   "id": "statewide-convention",
   "metadata": {},
   "outputs": [],
   "source": [
    "# No change needed"
   ]
  },
  {
   "cell_type": "code",
   "execution_count": 43,
   "id": "fleet-investing",
   "metadata": {},
   "outputs": [],
   "source": [
    "MERGED_DF[\"LAB16\"] = pd.concat([year_1999[\"LAB16.xpt\"], \n",
    "                                year_2001[\"L16_B.xpt\"], \n",
    "                                year_2003[\"L16_C.xpt\"]],\n",
    "                              axis=0)\n",
    "MERGED_DF[\"LAB16\"].reset_index(drop=True, inplace=True)"
   ]
  },
  {
   "cell_type": "code",
   "execution_count": 44,
   "id": "short-spectrum",
   "metadata": {},
   "outputs": [
    {
     "data": {
      "text/html": [
       "<div>\n",
       "<style scoped>\n",
       "    .dataframe tbody tr th:only-of-type {\n",
       "        vertical-align: middle;\n",
       "    }\n",
       "\n",
       "    .dataframe tbody tr th {\n",
       "        vertical-align: top;\n",
       "    }\n",
       "\n",
       "    .dataframe thead th {\n",
       "        text-align: right;\n",
       "    }\n",
       "</style>\n",
       "<table border=\"1\" class=\"dataframe\">\n",
       "  <thead>\n",
       "    <tr style=\"text-align: right;\">\n",
       "      <th></th>\n",
       "      <th>SEQN</th>\n",
       "      <th>URXUMA</th>\n",
       "      <th>URXUMASI</th>\n",
       "      <th>URXUCR</th>\n",
       "      <th>URXUCRSI</th>\n",
       "      <th>year</th>\n",
       "    </tr>\n",
       "  </thead>\n",
       "  <tbody>\n",
       "    <tr>\n",
       "      <th>0</th>\n",
       "      <td>2.0</td>\n",
       "      <td>9.1</td>\n",
       "      <td>9.1</td>\n",
       "      <td>145.0</td>\n",
       "      <td>12818.0</td>\n",
       "      <td>1999-2000</td>\n",
       "    </tr>\n",
       "    <tr>\n",
       "      <th>1</th>\n",
       "      <td>3.0</td>\n",
       "      <td>10.4</td>\n",
       "      <td>10.4</td>\n",
       "      <td>126.0</td>\n",
       "      <td>11138.0</td>\n",
       "      <td>1999-2000</td>\n",
       "    </tr>\n",
       "    <tr>\n",
       "      <th>2</th>\n",
       "      <td>5.0</td>\n",
       "      <td>6.1</td>\n",
       "      <td>6.1</td>\n",
       "      <td>172.0</td>\n",
       "      <td>15205.0</td>\n",
       "      <td>1999-2000</td>\n",
       "    </tr>\n",
       "    <tr>\n",
       "      <th>3</th>\n",
       "      <td>6.0</td>\n",
       "      <td>5.0</td>\n",
       "      <td>5.0</td>\n",
       "      <td>124.0</td>\n",
       "      <td>10962.0</td>\n",
       "      <td>1999-2000</td>\n",
       "    </tr>\n",
       "    <tr>\n",
       "      <th>4</th>\n",
       "      <td>7.0</td>\n",
       "      <td>6.7</td>\n",
       "      <td>6.7</td>\n",
       "      <td>128.0</td>\n",
       "      <td>11315.0</td>\n",
       "      <td>1999-2000</td>\n",
       "    </tr>\n",
       "    <tr>\n",
       "      <th>...</th>\n",
       "      <td>...</td>\n",
       "      <td>...</td>\n",
       "      <td>...</td>\n",
       "      <td>...</td>\n",
       "      <td>...</td>\n",
       "      <td>...</td>\n",
       "    </tr>\n",
       "    <tr>\n",
       "      <th>23713</th>\n",
       "      <td>31119.0</td>\n",
       "      <td>31.7</td>\n",
       "      <td>31.7</td>\n",
       "      <td>41.0</td>\n",
       "      <td>3624.0</td>\n",
       "      <td>2003-2004</td>\n",
       "    </tr>\n",
       "    <tr>\n",
       "      <th>23714</th>\n",
       "      <td>31121.0</td>\n",
       "      <td>1.8</td>\n",
       "      <td>1.8</td>\n",
       "      <td>16.0</td>\n",
       "      <td>1414.0</td>\n",
       "      <td>2003-2004</td>\n",
       "    </tr>\n",
       "    <tr>\n",
       "      <th>23715</th>\n",
       "      <td>31123.0</td>\n",
       "      <td>8.8</td>\n",
       "      <td>8.8</td>\n",
       "      <td>57.0</td>\n",
       "      <td>5039.0</td>\n",
       "      <td>2003-2004</td>\n",
       "    </tr>\n",
       "    <tr>\n",
       "      <th>23716</th>\n",
       "      <td>31124.0</td>\n",
       "      <td>12.8</td>\n",
       "      <td>12.8</td>\n",
       "      <td>257.0</td>\n",
       "      <td>22719.0</td>\n",
       "      <td>2003-2004</td>\n",
       "    </tr>\n",
       "    <tr>\n",
       "      <th>23717</th>\n",
       "      <td>31125.0</td>\n",
       "      <td>7.8</td>\n",
       "      <td>7.8</td>\n",
       "      <td>201.0</td>\n",
       "      <td>17768.0</td>\n",
       "      <td>2003-2004</td>\n",
       "    </tr>\n",
       "  </tbody>\n",
       "</table>\n",
       "<p>23718 rows × 6 columns</p>\n",
       "</div>"
      ],
      "text/plain": [
       "          SEQN  URXUMA  URXUMASI  URXUCR  URXUCRSI       year\n",
       "0          2.0     9.1       9.1   145.0   12818.0  1999-2000\n",
       "1          3.0    10.4      10.4   126.0   11138.0  1999-2000\n",
       "2          5.0     6.1       6.1   172.0   15205.0  1999-2000\n",
       "3          6.0     5.0       5.0   124.0   10962.0  1999-2000\n",
       "4          7.0     6.7       6.7   128.0   11315.0  1999-2000\n",
       "...        ...     ...       ...     ...       ...        ...\n",
       "23713  31119.0    31.7      31.7    41.0    3624.0  2003-2004\n",
       "23714  31121.0     1.8       1.8    16.0    1414.0  2003-2004\n",
       "23715  31123.0     8.8       8.8    57.0    5039.0  2003-2004\n",
       "23716  31124.0    12.8      12.8   257.0   22719.0  2003-2004\n",
       "23717  31125.0     7.8       7.8   201.0   17768.0  2003-2004\n",
       "\n",
       "[23718 rows x 6 columns]"
      ]
     },
     "execution_count": 44,
     "metadata": {},
     "output_type": "execute_result"
    }
   ],
   "source": [
    "MERGED_DF[\"LAB16\"]"
   ]
  },
  {
   "cell_type": "code",
   "execution_count": 45,
   "id": "lonely-insertion",
   "metadata": {},
   "outputs": [
    {
     "data": {
      "text/plain": [
       "dict_keys(['LAB10', 'L10AM', 'LAB11', 'LAB13', 'L13+', 'LAB16'])"
      ]
     },
     "execution_count": 45,
     "metadata": {},
     "output_type": "execute_result"
    }
   ],
   "source": [
    "MERGED_DF.keys()"
   ]
  },
  {
   "cell_type": "markdown",
   "id": "authorized-sitting",
   "metadata": {},
   "source": [
    "### 7) SSCARD"
   ]
  },
  {
   "cell_type": "code",
   "execution_count": 46,
   "id": "dedicated-judge",
   "metadata": {},
   "outputs": [
    {
     "data": {
      "text/plain": [
       "array([ True,  True,  True,  True,  True,  True,  True,  True,  True,\n",
       "        True,  True,  True,  True,  True])"
      ]
     },
     "execution_count": 46,
     "metadata": {},
     "output_type": "execute_result"
    }
   ],
   "source": [
    "year_1999[\"SSCARD_A.xpt\"].columns == year_2001[\"SSCARD_A.xpt\"].columns"
   ]
  },
  {
   "cell_type": "code",
   "execution_count": 47,
   "id": "beautiful-thesaurus",
   "metadata": {},
   "outputs": [
    {
     "data": {
      "text/plain": [
       "array([ True,  True,  True,  True,  True,  True,  True,  True,  True,\n",
       "        True,  True,  True,  True,  True])"
      ]
     },
     "execution_count": 47,
     "metadata": {},
     "output_type": "execute_result"
    }
   ],
   "source": [
    "year_2001[\"SSCARD_A.xpt\"].columns == year_2003[\"SSCARD_A.xpt\"].columns"
   ]
  },
  {
   "cell_type": "code",
   "execution_count": 48,
   "id": "hungarian-lodging",
   "metadata": {},
   "outputs": [],
   "source": [
    "MERGED_DF[\"SSCARD_A\"] = pd.concat([year_1999[\"SSCARD_A.xpt\"], \n",
    "                                  year_2001[\"SSCARD_A.xpt\"],\n",
    "                                  year_2003[\"SSCARD_A.xpt\"]], axis=0)"
   ]
  },
  {
   "cell_type": "code",
   "execution_count": 49,
   "id": "fatal-administrator",
   "metadata": {},
   "outputs": [],
   "source": [
    "MERGED_DF[\"SSCARD_A\"].reset_index(drop=True, inplace=True)"
   ]
  },
  {
   "cell_type": "code",
   "execution_count": 50,
   "id": "downtown-assignment",
   "metadata": {},
   "outputs": [
    {
     "data": {
      "text/plain": [
       "21767"
      ]
     },
     "execution_count": 50,
     "metadata": {},
     "output_type": "execute_result"
    }
   ],
   "source": [
    "len(MERGED_DF[\"SSCARD_A\"][\"SEQN\"].unique())"
   ]
  },
  {
   "cell_type": "code",
   "execution_count": 51,
   "id": "plastic-thickness",
   "metadata": {},
   "outputs": [
    {
     "data": {
      "text/plain": [
       "65301"
      ]
     },
     "execution_count": 51,
     "metadata": {},
     "output_type": "execute_result"
    }
   ],
   "source": [
    "len(MERGED_DF[\"SSCARD_A\"][\"SEQN\"])"
   ]
  },
  {
   "cell_type": "markdown",
   "id": "intellectual-reconstruction",
   "metadata": {},
   "source": [
    "### 8) SSCYST"
   ]
  },
  {
   "cell_type": "code",
   "execution_count": 52,
   "id": "sexual-fields",
   "metadata": {},
   "outputs": [],
   "source": [
    "# We dont need it since it is already available in SSCARD!"
   ]
  },
  {
   "cell_type": "markdown",
   "id": "certain-morris",
   "metadata": {},
   "source": [
    "### 9) Merging each separate table for Laboratory Data"
   ]
  },
  {
   "cell_type": "code",
   "execution_count": 53,
   "id": "sensitive-comparative",
   "metadata": {},
   "outputs": [],
   "source": [
    "cond = ~pd.isna(MERGED_DF[\"SSCARD_A\"][\"WTSSCB4Y\"])\n",
    "result = MERGED_DF[\"SSCARD_A\"][\"WTSSCB4Y\"]/2\n",
    "MERGED_DF[\"SSCARD_A\"].loc[cond, \"WTSSCB2Y\"] = result"
   ]
  },
  {
   "cell_type": "code",
   "execution_count": 54,
   "id": "dutch-enough",
   "metadata": {},
   "outputs": [],
   "source": [
    "MERGED_DF[\"SSCARD_A\"].drop(columns=[\"WTSSCB4Y\"], inplace=True)"
   ]
  },
  {
   "cell_type": "code",
   "execution_count": 55,
   "id": "advance-ethics",
   "metadata": {},
   "outputs": [
    {
     "data": {
      "text/html": [
       "<div>\n",
       "<style scoped>\n",
       "    .dataframe tbody tr th:only-of-type {\n",
       "        vertical-align: middle;\n",
       "    }\n",
       "\n",
       "    .dataframe tbody tr th {\n",
       "        vertical-align: top;\n",
       "    }\n",
       "\n",
       "    .dataframe thead th {\n",
       "        text-align: right;\n",
       "    }\n",
       "</style>\n",
       "<table border=\"1\" class=\"dataframe\">\n",
       "  <thead>\n",
       "    <tr style=\"text-align: right;\">\n",
       "      <th></th>\n",
       "      <th>SEQN</th>\n",
       "      <th>WTSSCB2Y</th>\n",
       "      <th>SSB2M</th>\n",
       "      <th>SSB2ML</th>\n",
       "      <th>SSCYST</th>\n",
       "      <th>SSCYSTL</th>\n",
       "      <th>SSGALB</th>\n",
       "      <th>SSGALBL</th>\n",
       "      <th>SSALB</th>\n",
       "      <th>SSALBL</th>\n",
       "      <th>SSGALBP</th>\n",
       "      <th>SSPRIS</th>\n",
       "      <th>year</th>\n",
       "    </tr>\n",
       "  </thead>\n",
       "  <tbody>\n",
       "    <tr>\n",
       "      <th>0</th>\n",
       "      <td>2.0</td>\n",
       "      <td>8414.497980</td>\n",
       "      <td>2.21</td>\n",
       "      <td>0.0</td>\n",
       "      <td>0.852</td>\n",
       "      <td>0.0</td>\n",
       "      <td>0.545</td>\n",
       "      <td>0.0</td>\n",
       "      <td>4.374</td>\n",
       "      <td>0.0</td>\n",
       "      <td>13.830</td>\n",
       "      <td>1.0</td>\n",
       "      <td>1999-2000</td>\n",
       "    </tr>\n",
       "    <tr>\n",
       "      <th>1</th>\n",
       "      <td>3.0</td>\n",
       "      <td>15138.696194</td>\n",
       "      <td>2.06</td>\n",
       "      <td>0.0</td>\n",
       "      <td>0.732</td>\n",
       "      <td>0.0</td>\n",
       "      <td>0.497</td>\n",
       "      <td>0.0</td>\n",
       "      <td>4.584</td>\n",
       "      <td>0.0</td>\n",
       "      <td>12.411</td>\n",
       "      <td>1.0</td>\n",
       "      <td>1999-2000</td>\n",
       "    </tr>\n",
       "    <tr>\n",
       "      <th>2</th>\n",
       "      <td>5.0</td>\n",
       "      <td>25705.534585</td>\n",
       "      <td>1.63</td>\n",
       "      <td>0.0</td>\n",
       "      <td>0.715</td>\n",
       "      <td>0.0</td>\n",
       "      <td>0.544</td>\n",
       "      <td>0.0</td>\n",
       "      <td>4.794</td>\n",
       "      <td>0.0</td>\n",
       "      <td>12.854</td>\n",
       "      <td>1.0</td>\n",
       "      <td>1999-2000</td>\n",
       "    </tr>\n",
       "    <tr>\n",
       "      <th>3</th>\n",
       "      <td>6.0</td>\n",
       "      <td>10757.657384</td>\n",
       "      <td>1.48</td>\n",
       "      <td>0.0</td>\n",
       "      <td>0.569</td>\n",
       "      <td>0.0</td>\n",
       "      <td>0.637</td>\n",
       "      <td>0.0</td>\n",
       "      <td>5.343</td>\n",
       "      <td>0.0</td>\n",
       "      <td>13.358</td>\n",
       "      <td>1.0</td>\n",
       "      <td>1999-2000</td>\n",
       "    </tr>\n",
       "    <tr>\n",
       "      <th>4</th>\n",
       "      <td>7.0</td>\n",
       "      <td>8835.405350</td>\n",
       "      <td>1.50</td>\n",
       "      <td>0.0</td>\n",
       "      <td>0.670</td>\n",
       "      <td>0.0</td>\n",
       "      <td>0.630</td>\n",
       "      <td>0.0</td>\n",
       "      <td>4.687</td>\n",
       "      <td>0.0</td>\n",
       "      <td>14.691</td>\n",
       "      <td>1.0</td>\n",
       "      <td>1999-2000</td>\n",
       "    </tr>\n",
       "  </tbody>\n",
       "</table>\n",
       "</div>"
      ],
      "text/plain": [
       "   SEQN      WTSSCB2Y  SSB2M  SSB2ML  SSCYST  SSCYSTL  SSGALB  SSGALBL  SSALB  \\\n",
       "0   2.0   8414.497980   2.21     0.0   0.852      0.0   0.545      0.0  4.374   \n",
       "1   3.0  15138.696194   2.06     0.0   0.732      0.0   0.497      0.0  4.584   \n",
       "2   5.0  25705.534585   1.63     0.0   0.715      0.0   0.544      0.0  4.794   \n",
       "3   6.0  10757.657384   1.48     0.0   0.569      0.0   0.637      0.0  5.343   \n",
       "4   7.0   8835.405350   1.50     0.0   0.670      0.0   0.630      0.0  4.687   \n",
       "\n",
       "   SSALBL  SSGALBP  SSPRIS       year  \n",
       "0     0.0   13.830     1.0  1999-2000  \n",
       "1     0.0   12.411     1.0  1999-2000  \n",
       "2     0.0   12.854     1.0  1999-2000  \n",
       "3     0.0   13.358     1.0  1999-2000  \n",
       "4     0.0   14.691     1.0  1999-2000  "
      ]
     },
     "execution_count": 55,
     "metadata": {},
     "output_type": "execute_result"
    }
   ],
   "source": [
    "MERGED_DF[\"SSCARD_A\"].head()"
   ]
  },
  {
   "cell_type": "code",
   "execution_count": 60,
   "id": "statistical-motivation",
   "metadata": {},
   "outputs": [],
   "source": [
    "if not os.path.exists(DATABASE+\"/Laboratory\"):\n",
    "    os.mkdir(DATABASE+\"/Laboratory\")\n",
    "    for table in MERGED_DF.keys():\n",
    "        MERGED_DF[table].to_csv(DATABASE+\"/Laboratory/\"+table+\".csv\",index=False)"
   ]
  },
  {
   "cell_type": "markdown",
   "id": "chemical-victorian",
   "metadata": {},
   "source": [
    "# B) Dietary"
   ]
  },
  {
   "cell_type": "code",
   "execution_count": 71,
   "id": "permanent-founder",
   "metadata": {},
   "outputs": [
    {
     "name": "stdout",
     "output_type": "stream",
     "text": [
      "DRXFMT.xpt : 1.0 : with at most 5% of NAN\n"
     ]
    },
    {
     "name": "stderr",
     "output_type": "stream",
     "text": [
      "<ipython-input-65-230c010423b9>:7: SettingWithCopyWarning: \n",
      "A value is trying to be set on a copy of a slice from a DataFrame.\n",
      "Try using .loc[row_indexer,col_indexer] = value instead\n",
      "\n",
      "See the caveats in the documentation: https://pandas.pydata.org/pandas-docs/stable/user_guide/indexing.html#returning-a-view-versus-a-copy\n",
      "  df_new[\"year\"] = year\n"
     ]
    },
    {
     "name": "stdout",
     "output_type": "stream",
     "text": [
      "DRXIFF.xpt : 0.9944461827284106 : with at most 5% of NAN\n",
      "DRXTOT.xpt : 0.0 : with at most 5% of NAN\n",
      "DSBI.xpt : 1.0 : with at most 5% of NAN\n",
      "DSII.xpt : 0.9999946964232679 : with at most 5% of NAN\n",
      "DSPI.xpt : 0.9424759080800593 : with at most 5% of NAN\n",
      "DSQFILE1.xpt : 0.9997992975413948 : with at most 5% of NAN\n",
      "DSQFILE2.xpt : 0.7777195968058647 : with at most 5% of NAN\n"
     ]
    }
   ],
   "source": [
    "year_1999 = get_DF_of_year(year=\"1999-2000\", threshold=5, database=\"Dietary\")\n",
    "year_2001 = get_DF_of_year(year=\"2001-2002\", threshold=5, database=\"Dietary\")\n",
    "year_2003 = get_DF_of_year(year=\"2003-2004\", threshold=5, database=\"Dietary\")"
   ]
  },
  {
   "cell_type": "markdown",
   "id": "floating-cooper",
   "metadata": {},
   "source": [
    "# C) Examination"
   ]
  },
  {
   "cell_type": "code",
   "execution_count": 72,
   "id": "moved-caribbean",
   "metadata": {},
   "outputs": [],
   "source": [
    "year_1999[\"DRXTOT.xpt\"] = None"
   ]
  },
  {
   "cell_type": "code",
   "execution_count": null,
   "id": "olive-costs",
   "metadata": {},
   "outputs": [],
   "source": []
  }
 ],
 "metadata": {
  "kernelspec": {
   "display_name": "Python 3",
   "language": "python",
   "name": "python3"
  },
  "language_info": {
   "codemirror_mode": {
    "name": "ipython",
    "version": 3
   },
   "file_extension": ".py",
   "mimetype": "text/x-python",
   "name": "python",
   "nbconvert_exporter": "python",
   "pygments_lexer": "ipython3",
   "version": "3.9.6"
  }
 },
 "nbformat": 4,
 "nbformat_minor": 5
}
