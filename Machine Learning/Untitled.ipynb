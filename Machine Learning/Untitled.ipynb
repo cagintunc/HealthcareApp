{
 "cells": [
  {
   "cell_type": "code",
   "execution_count": 179,
   "id": "civilian-czech",
   "metadata": {},
   "outputs": [],
   "source": [
    "import cv2\n",
    "import glob\n",
    "import os\n",
    "import pandas as pd\n",
    "import numpy as np\n",
    "from concurrent.futures import ThreadPoolExecutor\n",
    "import time"
   ]
  },
  {
   "cell_type": "code",
   "execution_count": 163,
   "id": "ethical-uncle",
   "metadata": {},
   "outputs": [
    {
     "data": {
      "text/plain": [
       "['test', 'train']"
      ]
     },
     "execution_count": 163,
     "metadata": {},
     "output_type": "execute_result"
    }
   ],
   "source": [
    "DB = \"database/images/lung\"\n",
    "LABELS_DICT = {\"NORMAL\":0, \n",
    "               \"COVID19\":1,\n",
    "              \"PNEUMONIA\":2}\n",
    "os.listdir(DB)"
   ]
  },
  {
   "cell_type": "code",
   "execution_count": 146,
   "id": "subtle-blues",
   "metadata": {},
   "outputs": [],
   "source": [
    "test_url = DB+\"/test\"\n",
    "train_url = DB+\"/train\""
   ]
  },
  {
   "cell_type": "code",
   "execution_count": 173,
   "id": "numerous-extreme",
   "metadata": {},
   "outputs": [],
   "source": [
    "def process_image(args):\n",
    "    img_path, label = args\n",
    "    image = cv2.imread(img_path)\n",
    "    if image is None:\n",
    "        return None\n",
    "    image = cv2.cvtColor(image, cv2.COLOR_RGB2GRAY)\n",
    "    image = cv2.resize(image, (64, 64))\n",
    "    image = image/255.0\n",
    "    return image, LABELS_DICT[label]"
   ]
  },
  {
   "cell_type": "code",
   "execution_count": 180,
   "id": "religious-possession",
   "metadata": {},
   "outputs": [],
   "source": [
    "def get_data_with_threads(path):\n",
    "    start = time.time()\n",
    "    tasks = []\n",
    "    X = []\n",
    "    y = []\n",
    "    \n",
    "    for p in os.listdir(path):\n",
    "        labels = os.listdir(path+\"/\"+p)\n",
    "        for label in labels:\n",
    "            imgs_path = path+\"/\"+p+\"/\"+label+\"/\"\n",
    "            for img in os.listdir(imgs_path):\n",
    "                img_path = imgs_path+img\n",
    "                tasks.append((img_path, label))\n",
    "    \n",
    "    with ThreadPoolExecutor() as executor:\n",
    "        for result in executor.map(process_image, tasks):\n",
    "            if result is not None:\n",
    "                img, lbl = result\n",
    "                X.append(img)\n",
    "                y.append(lbl)\n",
    "    \n",
    "    end = time.time()\n",
    "    return np.array(X), np.array(y), end-start\n",
    "    "
   ]
  },
  {
   "cell_type": "code",
   "execution_count": 181,
   "id": "departmental-diagram",
   "metadata": {},
   "outputs": [],
   "source": [
    "def get_data(path): #not used without thread\n",
    "    start = time.time()\n",
    "    X = []\n",
    "    y = []\n",
    "    \n",
    "    for p in os.listdir(path):\n",
    "        labels = os.listdir(path+\"/\"+p)\n",
    "        for label in labels:\n",
    "            imgs_path = path+\"/\"+p+\"/\"+label+\"/\"\n",
    "            for img in os.listdir(imgs_path):\n",
    "                img_path = imgs_path+img\n",
    "                image = cv2.imread(img_path)\n",
    "                image = cv2.cvtColor(image, cv2.COLOR_RGB2GRAY)\n",
    "                image = cv2.resize(image, (64, 64))\n",
    "                image = image/255.0\n",
    "                X.append(image)\n",
    "                y.append(LABELS_DICT[label])\n",
    "    end = time.time()\n",
    "    return np.array(X), np.array(y), end-start"
   ]
  },
  {
   "cell_type": "code",
   "execution_count": 182,
   "id": "innovative-rubber",
   "metadata": {},
   "outputs": [],
   "source": [
    "X, y, time_with_thread = get_data_with_threads(DB)"
   ]
  },
  {
   "cell_type": "code",
   "execution_count": 183,
   "id": "critical-facial",
   "metadata": {},
   "outputs": [],
   "source": [
    "_, _, time_without_thread = get_data(DB) # not used"
   ]
  },
  {
   "cell_type": "code",
   "execution_count": 187,
   "id": "controversial-appeal",
   "metadata": {},
   "outputs": [
    {
     "data": {
      "text/plain": [
       "(6432, 6432)"
      ]
     },
     "execution_count": 187,
     "metadata": {},
     "output_type": "execute_result"
    }
   ],
   "source": [
    "len(X), len(y)"
   ]
  },
  {
   "cell_type": "code",
   "execution_count": 186,
   "id": "familiar-master",
   "metadata": {},
   "outputs": [
    {
     "data": {
      "image/png": "[encoded data removed]",
      "text/plain": [
       "<Figure size 432x288 with 1 Axes>"
      ]
     },
     "metadata": {
      "needs_background": "light"
     },
     "output_type": "display_data"
    }
   ],
   "source": [
    "plt.bar(x=[\"Without Thread\", \"With Thread\"], height=[time_without_thread, time_with_thread], color=\"red\")\n",
    "plt.title(\"Time comparison for image preprocessing \\n without VS with using thread\")\n",
    "plt.ylabel(\"Second\")\n",
    "plt.show()"
   ]
  },
  {
   "cell_type": "code",
   "execution_count": null,
   "id": "coastal-thesis",
   "metadata": {},
   "outputs": [],
   "source": []
  }
 ],
 "metadata": {
  "kernelspec": {
   "display_name": "Python 3",
   "language": "python",
   "name": "python3"
  },
  "language_info": {
   "codemirror_mode": {
    "name": "ipython",
    "version": 3
   },
   "file_extension": ".py",
   "mimetype": "text/x-python",
   "name": "python",
   "nbconvert_exporter": "python",
   "pygments_lexer": "ipython3",
   "version": "3.9.6"
  }
 },
 "nbformat": 4,
 "nbformat_minor": 5
}
