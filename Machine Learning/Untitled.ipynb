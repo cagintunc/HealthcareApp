{
 "cells": [
  {
   "cell_type": "code",
   "execution_count": 1,
   "id": "removable-salad",
   "metadata": {},
   "outputs": [],
   "source": [
    "import numpy as np\n",
    "import pandas as pd\n",
    "import os\n",
    "import glob\n",
    "import sklearn\n",
    "from sklearn.decomposition import PCA, NMF"
   ]
  },
  {
   "cell_type": "code",
   "execution_count": 2,
   "id": "integral-preserve",
   "metadata": {},
   "outputs": [],
   "source": [
    "PATH = \"database/Laboratory/\""
   ]
  },
  {
   "cell_type": "code",
   "execution_count": 3,
   "id": "olympic-georgia",
   "metadata": {},
   "outputs": [],
   "source": [
    "directories = glob.glob(f\"{PATH}*.csv\")"
   ]
  },
  {
   "cell_type": "code",
   "execution_count": 4,
   "id": "ranking-mercy",
   "metadata": {},
   "outputs": [
    {
     "data": {
      "text/plain": [
       "['database/Laboratory\\\\L10AM.csv',\n",
       " 'database/Laboratory\\\\L13+.csv',\n",
       " 'database/Laboratory\\\\LAB10.csv',\n",
       " 'database/Laboratory\\\\LAB11.csv',\n",
       " 'database/Laboratory\\\\LAB13.csv',\n",
       " 'database/Laboratory\\\\LAB16.csv',\n",
       " 'database/Laboratory\\\\SSCARD_A.csv']"
      ]
     },
     "execution_count": 4,
     "metadata": {},
     "output_type": "execute_result"
    }
   ],
   "source": [
    "directories"
   ]
  },
  {
   "cell_type": "code",
   "execution_count": 5,
   "id": "black-thursday",
   "metadata": {},
   "outputs": [],
   "source": [
    "full_dfs = {}"
   ]
  },
  {
   "cell_type": "code",
   "execution_count": 6,
   "id": "dying-product",
   "metadata": {},
   "outputs": [],
   "source": [
    "for direc in directories:\n",
    "    name = direc.split(\"\\\\\")[1].split(\".\")[0]\n",
    "    full_dfs[name] = pd.read_csv(direc, index_col=False)"
   ]
  },
  {
   "cell_type": "code",
   "execution_count": 7,
   "id": "healthy-flush",
   "metadata": {},
   "outputs": [],
   "source": [
    "L10AM = full_dfs[\"L10AM\"]\n",
    "L13 = full_dfs[\"L13+\"]\n",
    "LAB10 = full_dfs[\"LAB10\"]\n",
    "LAB11 = full_dfs[\"LAB11\"]\n",
    "LAB13 = full_dfs[\"LAB13\"]\n",
    "LAB16 = full_dfs[\"LAB16\"]\n",
    "SSCARD_A = full_dfs[\"SSCARD_A\"]"
   ]
  },
  {
   "cell_type": "code",
   "execution_count": 30,
   "id": "hundred-pottery",
   "metadata": {},
   "outputs": [],
   "source": [
    "def merge_effectively(not_merged, df):\n",
    "    max_entry = -1\n",
    "    max_candidate = None\n",
    "    print(f\"Progressing {not_merged}\")\n",
    "    name = None\n",
    "    for cand in not_merged:\n",
    "        tmp_df_i = full_dfs[cand]\n",
    "        tmp_df = pd.merge(df, tmp_df_i, on=\"SEQN\", how=\"inner\", suffixes=[\"\", \"**\"])\n",
    "        if(len(tmp_df) > max_entry):\n",
    "            max_entry = len(tmp_df)\n",
    "            max_candidate = tmp_df\n",
    "            name = cand\n",
    "    not_merged.remove(name)\n",
    "    return max_candidate"
   ]
  },
  {
   "cell_type": "code",
   "execution_count": 31,
   "id": "matched-component",
   "metadata": {},
   "outputs": [],
   "source": [
    "def get_largest_df():\n",
    "    max_entry = -1\n",
    "    max_df = None\n",
    "    for n in full_dfs.keys():\n",
    "        tmp_df = full_dfs[n]\n",
    "        if(max_entry < len(tmp_df)):\n",
    "            max_enrty = len(tmp_df)\n",
    "            max_df = n\n",
    "    return max_df"
   ]
  },
  {
   "cell_type": "code",
   "execution_count": 32,
   "id": "requested-found",
   "metadata": {},
   "outputs": [],
   "source": [
    "def merge_dataframes(not_merged):\n",
    "    max_df = get_largest_df()\n",
    "    merged_df = full_dfs[max_df]\n",
    "    not_merged.remove(max_df)\n",
    "    while len(not_merged) > 0:\n",
    "        merged_df = merge_effectively(not_merged, merged_df)\n",
    "    return merged_df"
   ]
  },
  {
   "cell_type": "code",
   "execution_count": 43,
   "id": "weighted-terrorism",
   "metadata": {},
   "outputs": [
    {
     "name": "stdout",
     "output_type": "stream",
     "text": [
      "Progressing ['L10AM', 'L13+', 'LAB10', 'LAB11', 'LAB13', 'LAB16']\n",
      "Progressing ['L10AM', 'L13+', 'LAB10', 'LAB11', 'LAB16']\n",
      "Progressing ['L10AM', 'L13+', 'LAB10', 'LAB11']\n",
      "Progressing ['L10AM', 'L13+', 'LAB11']\n",
      "Progressing ['L13+', 'LAB11']\n",
      "Progressing ['LAB11']\n"
     ]
    }
   ],
   "source": [
    "not_merged = list(full_dfs.keys())\n",
    "merged_df = merge_dataframes(not_merged)"
   ]
  },
  {
   "cell_type": "code",
   "execution_count": 44,
   "id": "soviet-attachment",
   "metadata": {},
   "outputs": [],
   "source": [
    "deleted_columns = []\n",
    "for i in merged_df.columns:\n",
    "    if i[-2]+i[-1] == \"**\":\n",
    "        deleted_columns.append(i)\n",
    "merged_df.drop(columns=deleted_columns, inplace=True)"
   ]
  },
  {
   "cell_type": "code",
   "execution_count": 45,
   "id": "municipal-enhancement",
   "metadata": {},
   "outputs": [],
   "source": [
    "merged_df.drop(columns=[\"year_y\", \"WTSAF4YR\"], inplace=True)"
   ]
  },
  {
   "cell_type": "code",
   "execution_count": 47,
   "id": "capital-contribution",
   "metadata": {},
   "outputs": [
    {
     "data": {
      "text/plain": [
       "Index(['SEQN', 'WTSSCB2Y', 'SSB2M', 'SSB2ML', 'SSCYST', 'SSCYSTL', 'SSGALB',\n",
       "       'SSGALBL', 'SSALB', 'SSALBL', 'SSGALBP', 'SSPRIS', 'year', 'LBXTC',\n",
       "       'LBDTCSI', 'LBDHDL', 'LBDHDLSI', 'URXUMA', 'URXUMASI', 'URXUCR',\n",
       "       'URXUCRSI', 'LBXGH', 'WTSAF2YR', 'LBXGLU', 'LBXGLUSI', 'LBXCPSI',\n",
       "       'LBXIN', 'LBXINSI', 'LBDINSI', 'LBXTR', 'LBDTRSI', 'LBDLDL', 'LBDLDLSI',\n",
       "       'LBXCRP', 'LBXBAP'],\n",
       "      dtype='object')"
      ]
     },
     "execution_count": 47,
     "metadata": {},
     "output_type": "execute_result"
    }
   ],
   "source": [
    "merged_df.columns"
   ]
  },
  {
   "cell_type": "code",
   "execution_count": null,
   "id": "fourth-ethnic",
   "metadata": {},
   "outputs": [],
   "source": []
  }
 ],
 "metadata": {
  "kernelspec": {
   "display_name": "Python 3",
   "language": "python",
   "name": "python3"
  },
  "language_info": {
   "codemirror_mode": {
    "name": "ipython",
    "version": 3
   },
   "file_extension": ".py",
   "mimetype": "text/x-python",
   "name": "python",
   "nbconvert_exporter": "python",
   "pygments_lexer": "ipython3",
   "version": "3.9.6"
  }
 },
 "nbformat": 4,
 "nbformat_minor": 5
}
