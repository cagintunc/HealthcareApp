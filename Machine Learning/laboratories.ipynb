{
 "cells": [
  {
   "cell_type": "code",
   "execution_count": 19,
   "id": "removable-salad",
   "metadata": {},
   "outputs": [],
   "source": [
    "import os\n",
    "import glob\n",
    "import sklearn\n",
    "from sklearn.manifold import TSNE\n",
    "import pandas as pd\n",
    "import numpy as np\n",
    "from sklearn.model_selection import train_test_split\n",
    "from sklearn.preprocessing import StandardScaler\n",
    "from sklearn.decomposition import PCA\n",
    "from sklearn.linear_model import LogisticRegression\n",
    "from sklearn.ensemble import RandomForestClassifier\n",
    "from xgboost import XGBClassifier\n",
    "from sklearn.metrics import classification_report, confusion_matrix\n",
    "import matplotlib.pyplot as plt\n",
    "import seaborn as sns\n",
    "from sklearn.preprocessing import StandardScaler"
   ]
  },
  {
   "cell_type": "code",
   "execution_count": 2,
   "id": "integral-preserve",
   "metadata": {},
   "outputs": [],
   "source": [
    "PATH = \"database/Laboratory/\""
   ]
  },
  {
   "cell_type": "code",
   "execution_count": 3,
   "id": "olympic-georgia",
   "metadata": {},
   "outputs": [],
   "source": [
    "directories = glob.glob(f\"{PATH}*.csv\")"
   ]
  },
  {
   "cell_type": "code",
   "execution_count": 4,
   "id": "ranking-mercy",
   "metadata": {},
   "outputs": [
    {
     "data": {
      "text/plain": [
       "['database/Laboratory\\\\L10AM.csv',\n",
       " 'database/Laboratory\\\\L13+.csv',\n",
       " 'database/Laboratory\\\\LAB10.csv',\n",
       " 'database/Laboratory\\\\LAB11.csv',\n",
       " 'database/Laboratory\\\\LAB13.csv',\n",
       " 'database/Laboratory\\\\LAB16.csv',\n",
       " 'database/Laboratory\\\\SSCARD_A.csv']"
      ]
     },
     "execution_count": 4,
     "metadata": {},
     "output_type": "execute_result"
    }
   ],
   "source": [
    "directories"
   ]
  },
  {
   "cell_type": "code",
   "execution_count": 5,
   "id": "black-thursday",
   "metadata": {},
   "outputs": [],
   "source": [
    "full_dfs = {}"
   ]
  },
  {
   "cell_type": "code",
   "execution_count": 6,
   "id": "dying-product",
   "metadata": {},
   "outputs": [],
   "source": [
    "for direc in directories:\n",
    "    name = direc.split(\"\\\\\")[1].split(\".\")[0]\n",
    "    full_dfs[name] = pd.read_csv(direc, index_col=False)"
   ]
  },
  {
   "cell_type": "code",
   "execution_count": 7,
   "id": "healthy-flush",
   "metadata": {},
   "outputs": [],
   "source": [
    "L10AM = full_dfs[\"L10AM\"]\n",
    "L13 = full_dfs[\"L13+\"]\n",
    "LAB10 = full_dfs[\"LAB10\"]\n",
    "LAB11 = full_dfs[\"LAB11\"]\n",
    "LAB13 = full_dfs[\"LAB13\"]\n",
    "LAB16 = full_dfs[\"LAB16\"]\n",
    "SSCARD_A = full_dfs[\"SSCARD_A\"]"
   ]
  },
  {
   "cell_type": "code",
   "execution_count": 8,
   "id": "hundred-pottery",
   "metadata": {},
   "outputs": [],
   "source": [
    "def merge_effectively(not_merged, df):\n",
    "    max_entry = -1\n",
    "    max_candidate = None\n",
    "    print(f\"Progressing {not_merged}\")\n",
    "    name = None\n",
    "    for cand in not_merged:\n",
    "        tmp_df_i = full_dfs[cand]\n",
    "        tmp_df = pd.merge(df, tmp_df_i, on=\"SEQN\", how=\"inner\", suffixes=[\"\", \"**\"])\n",
    "        if(len(tmp_df) > max_entry):\n",
    "            max_entry = len(tmp_df)\n",
    "            max_candidate = tmp_df\n",
    "            name = cand\n",
    "    not_merged.remove(name)\n",
    "    return max_candidate"
   ]
  },
  {
   "cell_type": "code",
   "execution_count": 9,
   "id": "matched-component",
   "metadata": {},
   "outputs": [],
   "source": [
    "def get_largest_df():\n",
    "    max_entry = -1\n",
    "    max_df = None\n",
    "    for n in full_dfs.keys():\n",
    "        tmp_df = full_dfs[n]\n",
    "        if(max_entry < len(tmp_df)):\n",
    "            max_enrty = len(tmp_df)\n",
    "            max_df = n\n",
    "    return max_df"
   ]
  },
  {
   "cell_type": "code",
   "execution_count": 10,
   "id": "requested-found",
   "metadata": {},
   "outputs": [],
   "source": [
    "def merge_dataframes(not_merged):\n",
    "    max_df = get_largest_df()\n",
    "    merged_df = full_dfs[max_df]\n",
    "    not_merged.remove(max_df)\n",
    "    while len(not_merged) > 0:\n",
    "        merged_df = merge_effectively(not_merged, merged_df)\n",
    "    return merged_df"
   ]
  },
  {
   "cell_type": "code",
   "execution_count": 126,
   "id": "weighted-terrorism",
   "metadata": {},
   "outputs": [
    {
     "name": "stdout",
     "output_type": "stream",
     "text": [
      "Progressing ['L10AM', 'L13+', 'LAB10', 'LAB11', 'LAB13', 'LAB16']\n",
      "Progressing ['L10AM', 'L13+', 'LAB10', 'LAB11', 'LAB16']\n",
      "Progressing ['L10AM', 'L13+', 'LAB10', 'LAB11']\n",
      "Progressing ['L10AM', 'L13+', 'LAB11']\n",
      "Progressing ['L13+', 'LAB11']\n",
      "Progressing ['LAB11']\n"
     ]
    }
   ],
   "source": [
    "not_merged = list(full_dfs.keys())\n",
    "merged_df = merge_dataframes(not_merged)"
   ]
  },
  {
   "cell_type": "code",
   "execution_count": 127,
   "id": "soviet-attachment",
   "metadata": {},
   "outputs": [],
   "source": [
    "deleted_columns = []\n",
    "for i in merged_df.columns:\n",
    "    if i[-2]+i[-1] == \"**\":\n",
    "        deleted_columns.append(i)\n",
    "merged_df.drop(columns=deleted_columns, inplace=True)"
   ]
  },
  {
   "cell_type": "code",
   "execution_count": 128,
   "id": "municipal-enhancement",
   "metadata": {},
   "outputs": [],
   "source": [
    "merged_df.drop(columns=[\"year_y\", \"WTSAF4YR\", \"SEQN\", \"year\"], inplace=True)"
   ]
  },
  {
   "cell_type": "code",
   "execution_count": 129,
   "id": "capital-contribution",
   "metadata": {},
   "outputs": [
    {
     "data": {
      "text/plain": [
       "Index(['WTSSCB2Y', 'SSB2M', 'SSB2ML', 'SSCYST', 'SSCYSTL', 'SSGALB', 'SSGALBL',\n",
       "       'SSALB', 'SSALBL', 'SSGALBP', 'SSPRIS', 'LBXTC', 'LBDTCSI', 'LBDHDL',\n",
       "       'LBDHDLSI', 'URXUMA', 'URXUMASI', 'URXUCR', 'URXUCRSI', 'LBXGH',\n",
       "       'WTSAF2YR', 'LBXGLU', 'LBXGLUSI', 'LBXCPSI', 'LBXIN', 'LBXINSI',\n",
       "       'LBDINSI', 'LBXTR', 'LBDTRSI', 'LBDLDL', 'LBDLDLSI', 'LBXCRP',\n",
       "       'LBXBAP'],\n",
       "      dtype='object')"
      ]
     },
     "execution_count": 129,
     "metadata": {},
     "output_type": "execute_result"
    }
   ],
   "source": [
    "merged_df.columns"
   ]
  },
  {
   "cell_type": "code",
   "execution_count": 130,
   "id": "educational-veteran",
   "metadata": {},
   "outputs": [],
   "source": [
    "df = merged_df"
   ]
  },
  {
   "cell_type": "code",
   "execution_count": 131,
   "id": "referenced-numbers",
   "metadata": {},
   "outputs": [],
   "source": [
    "for i in df.columns:\n",
    "    df[i] = df[i]/np.max(df[i])\n",
    "df = df.dropna(axis=1)"
   ]
  },
  {
   "cell_type": "code",
   "execution_count": 132,
   "id": "juvenile-lodging",
   "metadata": {},
   "outputs": [
    {
     "name": "stderr",
     "output_type": "stream",
     "text": [
      "<ipython-input-132-7d5c67a0a9f3>:4: SettingWithCopyWarning: \n",
      "A value is trying to be set on a copy of a slice from a DataFrame.\n",
      "Try using .loc[row_indexer,col_indexer] = value instead\n",
      "\n",
      "See the caveats in the documentation: https://pandas.pydata.org/pandas-docs/stable/user_guide/indexing.html#returning-a-view-versus-a-copy\n",
      "  df[i] = df[i]*x\n"
     ]
    }
   ],
   "source": [
    "for i in df.columns:\n",
    "    mean = np.mean(df[i])\n",
    "    x = 0.5/mean\n",
    "    df[i] = df[i]*x"
   ]
  },
  {
   "cell_type": "code",
   "execution_count": 133,
   "id": "individual-sessions",
   "metadata": {},
   "outputs": [
    {
     "data": {
      "text/html": [
       "<div>\n",
       "<style scoped>\n",
       "    .dataframe tbody tr th:only-of-type {\n",
       "        vertical-align: middle;\n",
       "    }\n",
       "\n",
       "    .dataframe tbody tr th {\n",
       "        vertical-align: top;\n",
       "    }\n",
       "\n",
       "    .dataframe thead th {\n",
       "        text-align: right;\n",
       "    }\n",
       "</style>\n",
       "<table border=\"1\" class=\"dataframe\">\n",
       "  <thead>\n",
       "    <tr style=\"text-align: right;\">\n",
       "      <th></th>\n",
       "      <th>WTSSCB2Y</th>\n",
       "      <th>SSB2M</th>\n",
       "      <th>SSB2ML</th>\n",
       "      <th>SSCYST</th>\n",
       "      <th>SSCYSTL</th>\n",
       "      <th>SSGALB</th>\n",
       "      <th>SSALB</th>\n",
       "      <th>SSGALBP</th>\n",
       "      <th>SSPRIS</th>\n",
       "      <th>LBXTC</th>\n",
       "      <th>...</th>\n",
       "      <th>URXUCRSI</th>\n",
       "      <th>WTSAF2YR</th>\n",
       "      <th>LBXGLU</th>\n",
       "      <th>LBXGLUSI</th>\n",
       "      <th>LBXIN</th>\n",
       "      <th>LBXTR</th>\n",
       "      <th>LBDTRSI</th>\n",
       "      <th>LBDLDL</th>\n",
       "      <th>LBDLDLSI</th>\n",
       "      <th>LBXCRP</th>\n",
       "    </tr>\n",
       "  </thead>\n",
       "  <tbody>\n",
       "    <tr>\n",
       "      <th>0</th>\n",
       "      <td>0.139466</td>\n",
       "      <td>0.538304</td>\n",
       "      <td>0.0</td>\n",
       "      <td>0.544217</td>\n",
       "      <td>0.0</td>\n",
       "      <td>0.491687</td>\n",
       "      <td>0.490323</td>\n",
       "      <td>0.498923</td>\n",
       "      <td>0.502156</td>\n",
       "      <td>0.554726</td>\n",
       "      <td>...</td>\n",
       "      <td>0.517382</td>\n",
       "      <td>0.137574</td>\n",
       "      <td>0.405139</td>\n",
       "      <td>0.413109</td>\n",
       "      <td>0.187755</td>\n",
       "      <td>0.502381</td>\n",
       "      <td>0.504077</td>\n",
       "      <td>0.591122</td>\n",
       "      <td>0.594241</td>\n",
       "      <td>0.396922</td>\n",
       "    </tr>\n",
       "    <tr>\n",
       "      <th>1</th>\n",
       "      <td>0.139466</td>\n",
       "      <td>0.538304</td>\n",
       "      <td>0.0</td>\n",
       "      <td>0.544217</td>\n",
       "      <td>0.0</td>\n",
       "      <td>0.491687</td>\n",
       "      <td>0.490323</td>\n",
       "      <td>0.498923</td>\n",
       "      <td>0.502156</td>\n",
       "      <td>0.554726</td>\n",
       "      <td>...</td>\n",
       "      <td>0.517382</td>\n",
       "      <td>0.137574</td>\n",
       "      <td>0.405139</td>\n",
       "      <td>0.413109</td>\n",
       "      <td>0.187755</td>\n",
       "      <td>0.502381</td>\n",
       "      <td>0.504077</td>\n",
       "      <td>0.591122</td>\n",
       "      <td>0.594241</td>\n",
       "      <td>0.396922</td>\n",
       "    </tr>\n",
       "    <tr>\n",
       "      <th>2</th>\n",
       "      <td>0.139466</td>\n",
       "      <td>0.538304</td>\n",
       "      <td>0.0</td>\n",
       "      <td>0.544217</td>\n",
       "      <td>0.0</td>\n",
       "      <td>0.491687</td>\n",
       "      <td>0.490323</td>\n",
       "      <td>0.498923</td>\n",
       "      <td>0.502156</td>\n",
       "      <td>0.554726</td>\n",
       "      <td>...</td>\n",
       "      <td>0.517382</td>\n",
       "      <td>0.137574</td>\n",
       "      <td>0.405139</td>\n",
       "      <td>0.413109</td>\n",
       "      <td>0.187755</td>\n",
       "      <td>0.502381</td>\n",
       "      <td>0.504077</td>\n",
       "      <td>0.591122</td>\n",
       "      <td>0.594241</td>\n",
       "      <td>0.396922</td>\n",
       "    </tr>\n",
       "    <tr>\n",
       "      <th>3</th>\n",
       "      <td>0.426056</td>\n",
       "      <td>0.397029</td>\n",
       "      <td>0.0</td>\n",
       "      <td>0.456708</td>\n",
       "      <td>0.0</td>\n",
       "      <td>0.490784</td>\n",
       "      <td>0.537404</td>\n",
       "      <td>0.463714</td>\n",
       "      <td>0.502156</td>\n",
       "      <td>0.719854</td>\n",
       "      <td>...</td>\n",
       "      <td>0.613730</td>\n",
       "      <td>0.409598</td>\n",
       "      <td>0.485756</td>\n",
       "      <td>0.493490</td>\n",
       "      <td>0.563265</td>\n",
       "      <td>1.361923</td>\n",
       "      <td>1.362746</td>\n",
       "      <td>0.731700</td>\n",
       "      <td>0.732672</td>\n",
       "      <td>0.088205</td>\n",
       "    </tr>\n",
       "    <tr>\n",
       "      <th>4</th>\n",
       "      <td>0.426056</td>\n",
       "      <td>0.397029</td>\n",
       "      <td>0.0</td>\n",
       "      <td>0.456708</td>\n",
       "      <td>0.0</td>\n",
       "      <td>0.490784</td>\n",
       "      <td>0.537404</td>\n",
       "      <td>0.463714</td>\n",
       "      <td>0.502156</td>\n",
       "      <td>0.719854</td>\n",
       "      <td>...</td>\n",
       "      <td>0.613730</td>\n",
       "      <td>0.409598</td>\n",
       "      <td>0.485756</td>\n",
       "      <td>0.493490</td>\n",
       "      <td>0.563265</td>\n",
       "      <td>1.361923</td>\n",
       "      <td>1.362746</td>\n",
       "      <td>0.731700</td>\n",
       "      <td>0.732672</td>\n",
       "      <td>0.088205</td>\n",
       "    </tr>\n",
       "    <tr>\n",
       "      <th>...</th>\n",
       "      <td>...</td>\n",
       "      <td>...</td>\n",
       "      <td>...</td>\n",
       "      <td>...</td>\n",
       "      <td>...</td>\n",
       "      <td>...</td>\n",
       "      <td>...</td>\n",
       "      <td>...</td>\n",
       "      <td>...</td>\n",
       "      <td>...</td>\n",
       "      <td>...</td>\n",
       "      <td>...</td>\n",
       "      <td>...</td>\n",
       "      <td>...</td>\n",
       "      <td>...</td>\n",
       "      <td>...</td>\n",
       "      <td>...</td>\n",
       "      <td>...</td>\n",
       "      <td>...</td>\n",
       "      <td>...</td>\n",
       "      <td>...</td>\n",
       "    </tr>\n",
       "    <tr>\n",
       "      <th>11875</th>\n",
       "      <td>0.579033</td>\n",
       "      <td>0.465231</td>\n",
       "      <td>0.0</td>\n",
       "      <td>0.449043</td>\n",
       "      <td>0.0</td>\n",
       "      <td>0.488078</td>\n",
       "      <td>0.500299</td>\n",
       "      <td>0.488209</td>\n",
       "      <td>0.502156</td>\n",
       "      <td>0.544405</td>\n",
       "      <td>...</td>\n",
       "      <td>0.146278</td>\n",
       "      <td>0.582563</td>\n",
       "      <td>0.554611</td>\n",
       "      <td>0.551286</td>\n",
       "      <td>1.667925</td>\n",
       "      <td>0.867392</td>\n",
       "      <td>0.867360</td>\n",
       "      <td>0.536114</td>\n",
       "      <td>0.537011</td>\n",
       "      <td>0.132307</td>\n",
       "    </tr>\n",
       "    <tr>\n",
       "      <th>11876</th>\n",
       "      <td>0.579033</td>\n",
       "      <td>0.465231</td>\n",
       "      <td>0.0</td>\n",
       "      <td>0.449043</td>\n",
       "      <td>0.0</td>\n",
       "      <td>0.488078</td>\n",
       "      <td>0.500299</td>\n",
       "      <td>0.488209</td>\n",
       "      <td>0.502156</td>\n",
       "      <td>0.544405</td>\n",
       "      <td>...</td>\n",
       "      <td>0.146278</td>\n",
       "      <td>0.582563</td>\n",
       "      <td>0.554611</td>\n",
       "      <td>0.551286</td>\n",
       "      <td>1.667925</td>\n",
       "      <td>0.867392</td>\n",
       "      <td>0.867360</td>\n",
       "      <td>0.536114</td>\n",
       "      <td>0.537011</td>\n",
       "      <td>0.132307</td>\n",
       "    </tr>\n",
       "    <tr>\n",
       "      <th>11877</th>\n",
       "      <td>0.321382</td>\n",
       "      <td>0.474974</td>\n",
       "      <td>0.0</td>\n",
       "      <td>0.567212</td>\n",
       "      <td>0.0</td>\n",
       "      <td>0.427632</td>\n",
       "      <td>0.524737</td>\n",
       "      <td>0.425041</td>\n",
       "      <td>0.502156</td>\n",
       "      <td>0.727594</td>\n",
       "      <td>...</td>\n",
       "      <td>0.917023</td>\n",
       "      <td>0.386023</td>\n",
       "      <td>0.511929</td>\n",
       "      <td>0.508873</td>\n",
       "      <td>0.642494</td>\n",
       "      <td>1.204929</td>\n",
       "      <td>1.204918</td>\n",
       "      <td>0.740431</td>\n",
       "      <td>0.742125</td>\n",
       "      <td>0.176410</td>\n",
       "    </tr>\n",
       "    <tr>\n",
       "      <th>11878</th>\n",
       "      <td>0.321382</td>\n",
       "      <td>0.474974</td>\n",
       "      <td>0.0</td>\n",
       "      <td>0.567212</td>\n",
       "      <td>0.0</td>\n",
       "      <td>0.427632</td>\n",
       "      <td>0.524737</td>\n",
       "      <td>0.425041</td>\n",
       "      <td>0.502156</td>\n",
       "      <td>0.727594</td>\n",
       "      <td>...</td>\n",
       "      <td>0.917023</td>\n",
       "      <td>0.386023</td>\n",
       "      <td>0.511929</td>\n",
       "      <td>0.508873</td>\n",
       "      <td>0.642494</td>\n",
       "      <td>1.204929</td>\n",
       "      <td>1.204918</td>\n",
       "      <td>0.740431</td>\n",
       "      <td>0.742125</td>\n",
       "      <td>0.176410</td>\n",
       "    </tr>\n",
       "    <tr>\n",
       "      <th>11879</th>\n",
       "      <td>0.321382</td>\n",
       "      <td>0.474974</td>\n",
       "      <td>0.0</td>\n",
       "      <td>0.567212</td>\n",
       "      <td>0.0</td>\n",
       "      <td>0.427632</td>\n",
       "      <td>0.524737</td>\n",
       "      <td>0.425041</td>\n",
       "      <td>0.502156</td>\n",
       "      <td>0.727594</td>\n",
       "      <td>...</td>\n",
       "      <td>0.917023</td>\n",
       "      <td>0.386023</td>\n",
       "      <td>0.511929</td>\n",
       "      <td>0.508873</td>\n",
       "      <td>0.642494</td>\n",
       "      <td>1.204929</td>\n",
       "      <td>1.204918</td>\n",
       "      <td>0.740431</td>\n",
       "      <td>0.742125</td>\n",
       "      <td>0.176410</td>\n",
       "    </tr>\n",
       "  </tbody>\n",
       "</table>\n",
       "<p>11880 rows × 26 columns</p>\n",
       "</div>"
      ],
      "text/plain": [
       "       WTSSCB2Y     SSB2M  SSB2ML    SSCYST  SSCYSTL    SSGALB     SSALB  \\\n",
       "0      0.139466  0.538304     0.0  0.544217      0.0  0.491687  0.490323   \n",
       "1      0.139466  0.538304     0.0  0.544217      0.0  0.491687  0.490323   \n",
       "2      0.139466  0.538304     0.0  0.544217      0.0  0.491687  0.490323   \n",
       "3      0.426056  0.397029     0.0  0.456708      0.0  0.490784  0.537404   \n",
       "4      0.426056  0.397029     0.0  0.456708      0.0  0.490784  0.537404   \n",
       "...         ...       ...     ...       ...      ...       ...       ...   \n",
       "11875  0.579033  0.465231     0.0  0.449043      0.0  0.488078  0.500299   \n",
       "11876  0.579033  0.465231     0.0  0.449043      0.0  0.488078  0.500299   \n",
       "11877  0.321382  0.474974     0.0  0.567212      0.0  0.427632  0.524737   \n",
       "11878  0.321382  0.474974     0.0  0.567212      0.0  0.427632  0.524737   \n",
       "11879  0.321382  0.474974     0.0  0.567212      0.0  0.427632  0.524737   \n",
       "\n",
       "        SSGALBP    SSPRIS     LBXTC  ...  URXUCRSI  WTSAF2YR    LBXGLU  \\\n",
       "0      0.498923  0.502156  0.554726  ...  0.517382  0.137574  0.405139   \n",
       "1      0.498923  0.502156  0.554726  ...  0.517382  0.137574  0.405139   \n",
       "2      0.498923  0.502156  0.554726  ...  0.517382  0.137574  0.405139   \n",
       "3      0.463714  0.502156  0.719854  ...  0.613730  0.409598  0.485756   \n",
       "4      0.463714  0.502156  0.719854  ...  0.613730  0.409598  0.485756   \n",
       "...         ...       ...       ...  ...       ...       ...       ...   \n",
       "11875  0.488209  0.502156  0.544405  ...  0.146278  0.582563  0.554611   \n",
       "11876  0.488209  0.502156  0.544405  ...  0.146278  0.582563  0.554611   \n",
       "11877  0.425041  0.502156  0.727594  ...  0.917023  0.386023  0.511929   \n",
       "11878  0.425041  0.502156  0.727594  ...  0.917023  0.386023  0.511929   \n",
       "11879  0.425041  0.502156  0.727594  ...  0.917023  0.386023  0.511929   \n",
       "\n",
       "       LBXGLUSI     LBXIN     LBXTR   LBDTRSI    LBDLDL  LBDLDLSI    LBXCRP  \n",
       "0      0.413109  0.187755  0.502381  0.504077  0.591122  0.594241  0.396922  \n",
       "1      0.413109  0.187755  0.502381  0.504077  0.591122  0.594241  0.396922  \n",
       "2      0.413109  0.187755  0.502381  0.504077  0.591122  0.594241  0.396922  \n",
       "3      0.493490  0.563265  1.361923  1.362746  0.731700  0.732672  0.088205  \n",
       "4      0.493490  0.563265  1.361923  1.362746  0.731700  0.732672  0.088205  \n",
       "...         ...       ...       ...       ...       ...       ...       ...  \n",
       "11875  0.551286  1.667925  0.867392  0.867360  0.536114  0.537011  0.132307  \n",
       "11876  0.551286  1.667925  0.867392  0.867360  0.536114  0.537011  0.132307  \n",
       "11877  0.508873  0.642494  1.204929  1.204918  0.740431  0.742125  0.176410  \n",
       "11878  0.508873  0.642494  1.204929  1.204918  0.740431  0.742125  0.176410  \n",
       "11879  0.508873  0.642494  1.204929  1.204918  0.740431  0.742125  0.176410  \n",
       "\n",
       "[11880 rows x 26 columns]"
      ]
     },
     "execution_count": 133,
     "metadata": {},
     "output_type": "execute_result"
    }
   ],
   "source": [
    "df"
   ]
  },
  {
   "cell_type": "code",
   "execution_count": 138,
   "id": "challenging-transfer",
   "metadata": {},
   "outputs": [
    {
     "data": {
      "text/plain": [
       "<AxesSubplot:>"
      ]
     },
     "execution_count": 138,
     "metadata": {},
     "output_type": "execute_result"
    },
    {
     "data": {
      "image/png": "[encoded data removed]",
      "text/plain": [
       "<Figure size 1080x720 with 2 Axes>"
      ]
     },
     "metadata": {
      "needs_background": "light"
     },
     "output_type": "display_data"
    }
   ],
   "source": [
    "plt.figure(figsize=(15, 10))\n",
    "corr = df.corr()\n",
    "sns.heatmap(corr)"
   ]
  },
  {
   "cell_type": "code",
   "execution_count": 135,
   "id": "allied-apollo",
   "metadata": {},
   "outputs": [
    {
     "data": {
      "image/png": "[encoded data removed]",
      "text/plain": [
       "<Figure size 1080x720 with 1 Axes>"
      ]
     },
     "metadata": {
      "needs_background": "light"
     },
     "output_type": "display_data"
    }
   ],
   "source": [
    "means = [np.mean(df[i]) for i in df.columns]\n",
    "plt.figure(figsize=(15,10))\n",
    "plt.bar(df.columns, height=means)\n",
    "plt.xticks(rotation=90)\n",
    "plt.show()"
   ]
  },
  {
   "cell_type": "code",
   "execution_count": null,
   "id": "excited-undergraduate",
   "metadata": {},
   "outputs": [],
   "source": []
  }
 ],
 "metadata": {
  "kernelspec": {
   "display_name": "Python 3",
   "language": "python",
   "name": "python3"
  },
  "language_info": {
   "codemirror_mode": {
    "name": "ipython",
    "version": 3
   },
   "file_extension": ".py",
   "mimetype": "text/x-python",
   "name": "python",
   "nbconvert_exporter": "python",
   "pygments_lexer": "ipython3",
   "version": "3.9.6"
  }
 },
 "nbformat": 4,
 "nbformat_minor": 5
}
